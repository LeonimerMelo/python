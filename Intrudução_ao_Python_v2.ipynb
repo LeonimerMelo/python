{
  "nbformat": 4,
  "nbformat_minor": 0,
  "metadata": {
    "colab": {
      "provenance": [],
      "authorship_tag": "ABX9TyM2QqWuZZixfMLj4tWBPTgK",
      "include_colab_link": true
    },
    "kernelspec": {
      "name": "python3",
      "display_name": "Python 3"
    },
    "language_info": {
      "name": "python"
    }
  },
  "cells": [
    {
      "cell_type": "markdown",
      "metadata": {
        "id": "view-in-github",
        "colab_type": "text"
      },
      "source": [
        "<a href=\"https://colab.research.google.com/github/LeonimerMelo/python/blob/main/Intrudu%C3%A7%C3%A3o_ao_Python_v2.ipynb\" target=\"_parent\"><img src=\"https://colab.research.google.com/assets/colab-badge.svg\" alt=\"Open In Colab\"/></a>"
      ]
    },
    {
      "cell_type": "markdown",
      "source": [
        "# Intodução ao Python\n",
        "Alguns exemplos comentados das principais estruturas e conceitos em Python, desde variáveis até coleções avançadas.\n",
        "\n",
        "## 1️⃣ Variáveis e Tipos de Dados"
      ],
      "metadata": {
        "id": "X1pGkzy8csM-"
      }
    },
    {
      "cell_type": "code",
      "source": [
        "# Variáveis armazenam dados\n",
        "nome = \"João\"       # String (texto)\n",
        "idade = 25          # Inteiro (int)\n",
        "altura = 1.75       # Float (decimal)\n",
        "estudante = True    # Booleano (True/False)\n",
        "\n",
        "# Saída formatada\n",
        "print(f\"{nome} tem {idade} anos e {altura}m de altura.\")"
      ],
      "metadata": {
        "id": "dv47euQwdLP0"
      },
      "execution_count": null,
      "outputs": []
    },
    {
      "cell_type": "markdown",
      "source": [
        "## 2️⃣ Operadores\n",
        "### Aritméticos"
      ],
      "metadata": {
        "id": "ZBeYPMP2deyW"
      }
    },
    {
      "cell_type": "code",
      "source": [
        "a = 10\n",
        "b = 3\n",
        "\n",
        "print(a + b)   # Soma → 13\n",
        "print(a - b)   # Subtração → 7\n",
        "print(a * b)   # Multiplicação → 30\n",
        "print(a / b)   # Divisão → 3.333...\n",
        "print(a % b)   # Resto da divisão → 1\n",
        "print(a ** b)  # Potência → 1000 (10³)"
      ],
      "metadata": {
        "id": "tdXWykQWdltM"
      },
      "execution_count": null,
      "outputs": []
    },
    {
      "cell_type": "markdown",
      "source": [
        "### Comparação"
      ],
      "metadata": {
        "id": "ozAy4Nozd_JM"
      }
    },
    {
      "cell_type": "code",
      "source": [
        "x = 5\n",
        "y = 10\n",
        "\n",
        "print(x == y)  # Igual? → False\n",
        "print(x != y)  # Diferente? → True\n",
        "print(x > y)   # Maior? → False\n",
        "print(x <= y)  # Menor ou igual? → True"
      ],
      "metadata": {
        "id": "iid2JQa_eBhk"
      },
      "execution_count": null,
      "outputs": []
    },
    {
      "cell_type": "markdown",
      "source": [
        "###Lógicos"
      ],
      "metadata": {
        "id": "-JQqzf4CWCqQ"
      }
    },
    {
      "cell_type": "code",
      "source": [
        "tem_carteira = True\n",
        "idade = 18\n",
        "\n",
        "# AND (ambas condições devem ser verdadeiras)\n",
        "pode_dirigir = tem_carteira and idade >= 18\n",
        "print(pode_dirigir)  # True\n",
        "\n",
        "# OR (pelo menos uma condição verdadeira)\n",
        "tem_passaporte = False\n",
        "tem_rg = True\n",
        "pode_viajar = tem_passaporte or tem_rg\n",
        "print(pode_viajar)  # True\n",
        "\n",
        "# NOT (inverte o valor)\n",
        "print(not True)  # False"
      ],
      "metadata": {
        "id": "VkgR2TYbWNzw"
      },
      "execution_count": null,
      "outputs": []
    },
    {
      "cell_type": "markdown",
      "source": [
        "##3️⃣ Estruturas de Controle\n",
        "###Condicionais (`if`, `elif`, `else`)"
      ],
      "metadata": {
        "id": "k7nAKIDOWUSP"
      }
    },
    {
      "cell_type": "code",
      "source": [
        "nota = 7.5\n",
        "\n",
        "if nota >= 9:\n",
        "    print(\"Excelente!\")\n",
        "elif nota >= 7:\n",
        "    print(\"Bom!\")       # ← Esta linha será executada\n",
        "elif nota >= 5:\n",
        "    print(\"Recuperação\")\n",
        "else:\n",
        "    print(\"Reprovado\")"
      ],
      "metadata": {
        "id": "EGSZKMB6WcwP"
      },
      "execution_count": null,
      "outputs": []
    },
    {
      "cell_type": "markdown",
      "source": [
        "###Loops (`for`, `while`)\n",
        "####`for` (iteração em sequências)"
      ],
      "metadata": {
        "id": "vvHmOhguW66n"
      }
    },
    {
      "cell_type": "code",
      "source": [
        "# Loop em uma lista\n",
        "frutas = [\"maçã\", \"banana\", \"laranja\"]\n",
        "for fruta in frutas:\n",
        "    print(fruta.upper())  # MAÇÃ, BANANA, LARANJA\n",
        "\n",
        "# Loop com range()\n",
        "for i in range(3):        # 0, 1, 2\n",
        "    print(i)"
      ],
      "metadata": {
        "id": "bmWuXJq3XA_Q"
      },
      "execution_count": null,
      "outputs": []
    },
    {
      "cell_type": "markdown",
      "source": [
        "####`while` (executa enquanto condição for verdadeira)"
      ],
      "metadata": {
        "id": "m095UAfGXHg_"
      }
    },
    {
      "cell_type": "code",
      "source": [
        "contador = 0\n",
        "while contador < 5:\n",
        "    print(contador)\n",
        "    contador += 1  # Incremento (evita loop infinito)"
      ],
      "metadata": {
        "id": "vsZo-SjiXKHf"
      },
      "execution_count": null,
      "outputs": []
    },
    {
      "cell_type": "markdown",
      "source": [
        "##4️⃣ Funções"
      ],
      "metadata": {
        "id": "4HAaaVQuXPlH"
      }
    },
    {
      "cell_type": "code",
      "source": [
        "# Função sem retorno\n",
        "def saudacao(nome):\n",
        "    print(f\"Olá, {nome}!\")\n",
        "\n",
        "saudacao(\"Maria\")  # → \"Olá, Maria!\"\n",
        "\n",
        "# Função com retorno e parâmetro padrão\n",
        "def soma(a, b=1):  # b tem valor padrão 1\n",
        "    return a + b\n",
        "\n",
        "resultado = soma(5, 3)  # → 8\n",
        "print(resultado)"
      ],
      "metadata": {
        "id": "dxLYEhXZXTAf"
      },
      "execution_count": null,
      "outputs": []
    },
    {
      "cell_type": "markdown",
      "source": [
        "##5️⃣ Coleções - Python Collections (Arrays)\n",
        "Python Lists, Tuples, Sets and Dictionaries\n",
        "\n",
        "There are four collection data types in the Python programming language:\n",
        "\n",
        "* **List** is a collection which is ordered and changeable. Allows duplicate members.\n",
        "* **Tuple** is a collection which is ordered and unchangeable. Allows duplicate members.\n",
        "* **Set** is a collection which is unordered, unchangeable, and unindexed. No duplicate members.\n",
        "* **Dictionary** is a collection which is ordered and changeable. No duplicate members.\n",
        "\n",
        "When choosing a collection type, it is useful to understand the properties of that type. Choosing the right type for a particular data set could mean retention of meaning, and, it could mean an increase in efficiency or security."
      ],
      "metadata": {
        "id": "OnR1dEyfagJQ"
      }
    },
    {
      "cell_type": "markdown",
      "source": [
        "## Python Listas (`list`)\n",
        "\n",
        "Lists are used to store multiple items in a single variable.\n",
        "\n",
        "Lists are created using square brackets."
      ],
      "metadata": {
        "id": "VNtW9rcYcJKV"
      }
    },
    {
      "cell_type": "code",
      "execution_count": null,
      "metadata": {
        "id": "RhrWVWEBaeZy"
      },
      "outputs": [],
      "source": [
        "mylist = [\"apple\", \"banana\", \"cherry\"]\n",
        "print(mylist)"
      ]
    },
    {
      "cell_type": "code",
      "source": [
        "list1 = [\"abc\", 34, True, 40, \"male\"]\n",
        "print(\"Minha lista: \", list1, type(list1))\n",
        "print(\"Tamanho da lista:\", len(list1))"
      ],
      "metadata": {
        "id": "8vgEWRL4cp_T"
      },
      "execution_count": null,
      "outputs": []
    },
    {
      "cell_type": "markdown",
      "source": [
        "Accessing Values in Lists"
      ],
      "metadata": {
        "id": "h7oYgT3WfsVV"
      }
    },
    {
      "cell_type": "code",
      "source": [
        "print(\"3o item da lista 'list1': \", list1[2])"
      ],
      "metadata": {
        "id": "mm5Phke9f5yX"
      },
      "execution_count": null,
      "outputs": []
    },
    {
      "cell_type": "code",
      "source": [
        "list1 = ['physics', \"chemistry\", 1997, 2000];\n",
        "list2 = [1, 2, 3, 4, 5, 6, 7 ];\n",
        "print (\"list1[0]: \", list1[0])\n",
        "print (\"list1[1]: \", list1[1])\n",
        "print (\"list2[1:5]: \", list2[1:5])"
      ],
      "metadata": {
        "id": "IHQkHR_De-N2"
      },
      "execution_count": null,
      "outputs": []
    },
    {
      "cell_type": "markdown",
      "source": [
        "All slice operations return a new list containing the requested elements."
      ],
      "metadata": {
        "id": "wZdH8mEVW-PM"
      }
    },
    {
      "cell_type": "code",
      "source": [
        "squares = [1, 4, 9, 16, 25]\n",
        "print('squares[:]: ',squares[:])\n",
        "print('squares[-2:]: ',squares[-2:])"
      ],
      "metadata": {
        "id": "f7voWSGXVnBz"
      },
      "execution_count": null,
      "outputs": []
    },
    {
      "cell_type": "markdown",
      "source": [
        "Lists are a mutable type, i.e. it is possible to change their content:"
      ],
      "metadata": {
        "id": "7hlxXB-7XReE"
      }
    },
    {
      "cell_type": "code",
      "source": [
        "cubes = [1, 8, 27, 65, 125]  # something's wrong here\n",
        "# 4 ** 3 = 64  # the cube of 4 is 64, not 65!\n",
        "cubes[3] = 64  # replace the wrong value\n",
        "cubes"
      ],
      "metadata": {
        "id": "y1lW6EvTXTsF"
      },
      "execution_count": null,
      "outputs": []
    },
    {
      "cell_type": "markdown",
      "source": [
        "You can also add new items at the end of the list, by using the `append()` method"
      ],
      "metadata": {
        "id": "R9CX31hoXw41"
      }
    },
    {
      "cell_type": "code",
      "source": [
        "cubes.append(216)  # add the cube of 6\n",
        "cubes.append(7 ** 3)  # and the cube of 7\n",
        "cubes"
      ],
      "metadata": {
        "id": "PzuNqYpoX3Yt"
      },
      "execution_count": null,
      "outputs": []
    },
    {
      "cell_type": "markdown",
      "source": [
        "Remove specified item"
      ],
      "metadata": {
        "id": "qKrKkm4IYQhA"
      }
    },
    {
      "cell_type": "code",
      "source": [
        "thislist = [\"apple\", \"banana\", \"cherry\"]\n",
        "thislist.remove(\"banana\")\n",
        "print(thislist)"
      ],
      "metadata": {
        "id": "GH_KcsxfYRsw"
      },
      "execution_count": null,
      "outputs": []
    },
    {
      "cell_type": "code",
      "source": [
        "numeros = [1, 2, 3, 4]\n",
        "numeros.append(5)       # Adiciona no final → [1, 2, 3, 4, 5]\n",
        "numeros.remove(2)       # Remove o valor 2 → [1, 3, 4, 5]\n",
        "print(numeros[0])       # Acessa índice 0 → 1"
      ],
      "metadata": {
        "id": "loUMx361bSdW"
      },
      "execution_count": null,
      "outputs": []
    },
    {
      "cell_type": "markdown",
      "source": [
        "## Python Tuples - Tuplas (imutáveis)  \n",
        "\n",
        "A tuple is a collection of objects which **ordered and immutable**. Tuples are sequences, just like lists. The differences between tuples and lists are, the tuples cannot be changed unlike lists and tuples use parentheses, whereas lists use square brackets.\n",
        "\n",
        "Creating a tuple is as simple as putting different comma-separated values. Optionally you can put these comma-separated values between parentheses also."
      ],
      "metadata": {
        "id": "6fD5eoLFdetx"
      }
    },
    {
      "cell_type": "code",
      "source": [
        "coordenadas = (10, 20)\n",
        "print(coordenadas[0])  # → 10\n",
        "coordenadas[0] = 5    # Erro! Tuplas não podem ser alteradas."
      ],
      "metadata": {
        "id": "ID7BTivucWXN"
      },
      "execution_count": null,
      "outputs": []
    },
    {
      "cell_type": "code",
      "source": [
        "tup1 = ('physics', 'chemistry', 1997, 2000)\n",
        "tup2 = 1, 2, 3, 4, 5\n",
        "tup3 = \"a\", \"b\", \"c\", \"d\"\n",
        "print (\"Tuple tup1:\", tup1, type(tup1))\n",
        "print (\"Tuple tup2:\", tup2, type(tup2))\n",
        "print (\"Tuple tup3:\", tup3, type(tup3))"
      ],
      "metadata": {
        "id": "IQNQs3HHddqv"
      },
      "execution_count": null,
      "outputs": []
    },
    {
      "cell_type": "markdown",
      "source": [
        "Looping"
      ],
      "metadata": {
        "id": "_s_HQ_lpJjMT"
      }
    },
    {
      "cell_type": "code",
      "source": [
        "tuple1 = (\"abc\", 34, True, 40, \"male\")\n",
        "for i in tuple1:\n",
        "  print(i)"
      ],
      "metadata": {
        "id": "7nl4eVoCIoPd"
      },
      "execution_count": null,
      "outputs": []
    },
    {
      "cell_type": "markdown",
      "source": [
        "The empty tuple is written as two parentheses containing nothing"
      ],
      "metadata": {
        "id": "AfVmJ6tijrCu"
      }
    },
    {
      "cell_type": "code",
      "source": [
        "tup1 = ()\n",
        "tup1"
      ],
      "metadata": {
        "id": "P6CEYirzpqyL"
      },
      "execution_count": null,
      "outputs": []
    },
    {
      "cell_type": "markdown",
      "source": [
        "To write a tuple containing a single value you have to include a comma, even though there is only one value"
      ],
      "metadata": {
        "id": "FNtnWJZWp13P"
      }
    },
    {
      "cell_type": "code",
      "source": [
        "tuple1 = (50,)\n",
        "notTuple = (50)\n",
        "print (\"Tuple tuple1: \", tuple1, type(tuple1))\n",
        "print (\"notTuple: \", notTuple, type(notTuple))"
      ],
      "metadata": {
        "id": "wkFAGpsqp2v6"
      },
      "execution_count": null,
      "outputs": []
    },
    {
      "cell_type": "markdown",
      "source": [
        "Accessing Values in Tuples"
      ],
      "metadata": {
        "id": "IaO4LNAlqd9V"
      }
    },
    {
      "cell_type": "code",
      "source": [
        "tup1 = ('physics', 'chemistry', 1997, 2000)\n",
        "tup2 = 1, 2, 3, 'j', 4, 5, 6, 7, 'a', \"OK\"\n",
        "print (\"tup1[0]: \", tup1[0])\n",
        "print (\"tup2[1:5]: \", tup2[1:5])"
      ],
      "metadata": {
        "id": "PdNPU0Isqe9c"
      },
      "execution_count": null,
      "outputs": []
    },
    {
      "cell_type": "markdown",
      "source": [
        "Tuples cannot be changed!"
      ],
      "metadata": {
        "id": "RY123n-hHlmA"
      }
    },
    {
      "cell_type": "code",
      "source": [
        "try:\n",
        "  tup1.append('error')\n",
        "except:\n",
        "  print('Error! Tuples cannot be append!')\n",
        "else:\n",
        "  print('append OK!')"
      ],
      "metadata": {
        "id": "voKW7tHNHL2E"
      },
      "execution_count": null,
      "outputs": []
    },
    {
      "cell_type": "markdown",
      "source": [
        "## Python Sets - Conjuntos (itens únicos, não ordenados)\n",
        "\n",
        "Sets are used to store multiple items in a single variable. A set is a collection which is *unordered*, *unchangeable*, and *unindexed*.\n",
        "\n",
        "**Unordered** means that the items in a set do not have a defined order. Set items can appear in a different order every time you use them, and cannot be referred to by index or key.\n",
        "\n",
        "**Unchangeable**. Set items are unchangeable, meaning that we cannot change the items after the set has been created. Once a set is created, you cannot change its items, but you can remove items and add new items.\n",
        "\n",
        "Basic uses include membership testing and eliminating duplicate entries. Set objects also support mathematical operations like union, intersection, difference, and symmetric difference.\n",
        "\n",
        "Sets are written with curly brackets."
      ],
      "metadata": {
        "id": "ta_7zYNdOCwF"
      }
    },
    {
      "cell_type": "code",
      "source": [
        "thisset = {\"apple\", \"banana\", \"cherry\"}\n",
        "print(thisset, type(thisset))"
      ],
      "metadata": {
        "id": "VBlH6JKIPSnU"
      },
      "execution_count": null,
      "outputs": []
    },
    {
      "cell_type": "code",
      "source": [
        "numeros = {1, 2, 2, 3}  # Remove duplicatas → {1, 2, 3}\n",
        "numeros.add(4)          # Adiciona elemento\n",
        "print(2 in numeros)     # Verifica existência → True\n",
        "print(numeros)"
      ],
      "metadata": {
        "id": "2ii44clXc0c1"
      },
      "execution_count": null,
      "outputs": []
    },
    {
      "cell_type": "markdown",
      "source": [
        "Duplicates Not Allowed. Sets cannot have two items with the same value. Duplicate values will be ignored."
      ],
      "metadata": {
        "id": "yOfi35XrQi4i"
      }
    },
    {
      "cell_type": "code",
      "source": [
        "thisset = {\"pineapple\", \"apple\", \"banana\", \"cherry\", \"apple\"}\n",
        "print(thisset)"
      ],
      "metadata": {
        "id": "jcTBttqwQukE"
      },
      "execution_count": null,
      "outputs": []
    },
    {
      "cell_type": "markdown",
      "source": [
        "The values `True` and `1` are considered the same value in sets, and are treated as duplicates:"
      ],
      "metadata": {
        "id": "LeBDYnNnReR6"
      }
    },
    {
      "cell_type": "code",
      "source": [
        "thisset = {\"apple\", \"banana\", \"cherry\", True, 1, 2}\n",
        "print(thisset)"
      ],
      "metadata": {
        "id": "ONigqbLSRfOo"
      },
      "execution_count": null,
      "outputs": []
    },
    {
      "cell_type": "code",
      "source": [
        "# Creating a Set from a List with no duplicating\n",
        "list1 = [0, 1, 2, 3, 4, 5, 0]\n",
        "num_set = set(list1)\n",
        "num_set"
      ],
      "metadata": {
        "id": "QPr5hat3Tt3S"
      },
      "execution_count": null,
      "outputs": []
    },
    {
      "cell_type": "code",
      "source": [
        "# Demonstrate set operations on unique letters from two words\n",
        "str_a = 'abracadabra'\n",
        "str_b = 'alacazam'\n",
        "print('string a:', str_a)\n",
        "print('string b:', str_b)\n",
        "set_a = set(str_a)\n",
        "set_b = set(str_b)\n",
        "# set transform string in unique letters in a\n",
        "print('letters in string a:', set_a)\n",
        "# letters in b\n",
        "print('letters in string b:', set_b)\n",
        "# letters in a but not in b\n",
        "print('letters in a but not in b:', set_a - set_b)\n",
        "# letters in a or b or both\n",
        "print('letters in a or b (both):', set_a | set_b)\n",
        "# letters in both a and b\n",
        "print('letters in a and b:', set_a & set_b)\n",
        "# letters in a excluive or b:\n",
        "print('letters in a excluive or b:', set_a ^ set_b)"
      ],
      "metadata": {
        "id": "1gGQVDG9o_Mo"
      },
      "execution_count": null,
      "outputs": []
    },
    {
      "cell_type": "markdown",
      "source": [
        "## Python Dictionary\n",
        "\n",
        "Python dictionary is a container of the unordered set of objects like lists. The objects are surrounded by curly braces { }. The items in a dictionary are a comma-separated list of key:value pairs where keys and values are Python data type.\n",
        "\n",
        "Dictionaries are sometimes found in other languages as “*associative memories*” or “*associative arrays*”. Unlike sequences, which are indexed by a range of numbers, dictionaries are indexed by keys, which can be any immutable type; strings and numbers can always be keys.\n",
        "\n",
        "The main operations on a dictionary are storing a value with some key and extracting the value given the key. It is also possible to delete a `key:value` pair with `del`. If you store using a key that is already in use, the old value associated with that key is forgotten. It is an error to extract a value using a non-existent key.\n",
        "\n",
        "Dictionaries are written with curly brackets, and have keys and values."
      ],
      "metadata": {
        "id": "CdU9EEONtiF1"
      }
    },
    {
      "cell_type": "code",
      "source": [
        "thisdict =\t{\n",
        "  \"brand\": \"Ford\",\n",
        "  \"model\": \"Mustang\",\n",
        "  \"year\": 1964\n",
        "}\n",
        "print(thisdict)"
      ],
      "metadata": {
        "id": "_Wd530QZ578x"
      },
      "execution_count": null,
      "outputs": []
    },
    {
      "cell_type": "markdown",
      "source": [
        "Dictionary items are ordered, changeable, and does not allow duplicates. Dictionary items are presented in `key:value` pairs, and can be referred to by using the key name."
      ],
      "metadata": {
        "id": "9ogaiRj-6xd5"
      }
    },
    {
      "cell_type": "code",
      "source": [
        "print(thisdict[\"brand\"])"
      ],
      "metadata": {
        "id": "u33bnYYF65LF"
      },
      "execution_count": null,
      "outputs": []
    },
    {
      "cell_type": "markdown",
      "source": [
        "Duplicates Not Allowed. Dictionaries cannot have two items with the same key. Duplicate values will overwrite existing values."
      ],
      "metadata": {
        "id": "5QlbLWIh7Pas"
      }
    },
    {
      "cell_type": "code",
      "source": [
        "thisdict =\t{\n",
        "  \"brand\": \"Ford\",\n",
        "  \"model\": \"Mustang\",\n",
        "  \"year\": 1964,\n",
        "  \"year\": 2020\n",
        "}\n",
        "print(thisdict)"
      ],
      "metadata": {
        "id": "MJ6o7NH17FEe"
      },
      "execution_count": null,
      "outputs": []
    },
    {
      "cell_type": "code",
      "source": [
        "# append data into dictionary\n",
        "tel = {'jack': 14098, 'sape': 4139}\n",
        "tel['guido'] = 4127\n",
        "tel"
      ],
      "metadata": {
        "id": "0Co92VshupW7"
      },
      "execution_count": null,
      "outputs": []
    },
    {
      "cell_type": "code",
      "source": [
        "# Performing list(d) on a dictionary returns a list of all the keys used in the dictionary\n",
        "list(tel)"
      ],
      "metadata": {
        "id": "EC_61tVEvXkk"
      },
      "execution_count": null,
      "outputs": []
    },
    {
      "cell_type": "code",
      "source": [
        "# Insertion order, if you want it sorted, just use sorted(d) instead\n",
        "sorted(tel)"
      ],
      "metadata": {
        "id": "wWcy3LBiwDQu"
      },
      "execution_count": null,
      "outputs": []
    },
    {
      "cell_type": "code",
      "source": [
        "pessoa = {\n",
        "    \"nome\": \"Carlos\",\n",
        "    \"idade\": 30,\n",
        "    \"cidade\": \"São Paulo\"\n",
        "}\n",
        "\n",
        "print('nome:', pessoa[\"nome\"])   # Acessa valor pela chave → \"Carlos\"\n",
        "pessoa[\"profissao\"] = \"Engenheiro\"  # Adiciona nova chave-valor\n",
        "print(pessoa)"
      ],
      "metadata": {
        "id": "_W06lw_ObtAH"
      },
      "execution_count": null,
      "outputs": []
    },
    {
      "cell_type": "markdown",
      "source": [
        "##6️⃣ Tratamento de Exceções (`try/except`)"
      ],
      "metadata": {
        "id": "yzXYqIVxdD2N"
      }
    },
    {
      "cell_type": "code",
      "source": [
        "try:\n",
        "    divisao = 10 / 0  # Gera erro!\n",
        "except ZeroDivisionError:\n",
        "    print(\"Erro: divisão por zero!\")\n",
        "finally:\n",
        "    print(\"Sempre executa, com ou sem erro.\")"
      ],
      "metadata": {
        "id": "wYe3f_3bdI7V"
      },
      "execution_count": null,
      "outputs": []
    },
    {
      "cell_type": "markdown",
      "source": [
        "##7️⃣ Comprehensions (Forma concisa de criar coleções)"
      ],
      "metadata": {
        "id": "y7ROP_gndaU1"
      }
    },
    {
      "cell_type": "code",
      "source": [
        "# List Comprehension\n",
        "quadrados = [x ** 2 for x in range(5)]  # [0, 1, 4, 9, 16]\n",
        "print(quadrados)\n",
        "# Dict Comprehension\n",
        "quadrados_dict = {x: x ** 2 for x in range(4)}  # {0: 0, 1: 1, 2: 4, 3: 9}\n",
        "print(quadrados_dict)"
      ],
      "metadata": {
        "id": "_Ik9JFlydWF1"
      },
      "execution_count": null,
      "outputs": []
    },
    {
      "cell_type": "code",
      "source": [
        "# Exemplo prático: uma função que conta vogais em uma string\n",
        "def contar_vogais(texto):\n",
        "    vogais = \"aeiouAEIOU\"\n",
        "    return sum(1 for letra in texto if letra in vogais)\n",
        "\n",
        "print(contar_vogais(\"Python\"))  # → 1 (o)"
      ],
      "metadata": {
        "id": "mXQW3MHZd_SF"
      },
      "execution_count": null,
      "outputs": []
    },
    {
      "cell_type": "markdown",
      "source": [
        "# Exercícios:\n",
        "\n",
        "1.   Write a Python program to get the largest number from a list.\n",
        "2.   Write a Python program to remove duplicates from a list.\n",
        "3. Write a Python program to check if a list is empty or not.\n",
        "4. Write a Python function that takes two lists and returns True if they have at least one common member.\n",
        "5. Write a Python program to generate and print a list of the first and last 5 elements where the values are square numbers between 1 and 30 (both included).\n",
        "6.  Write a Python program to check if each number is prime in a given list of numbers. Return True if all numbers are prime otherwise False.\n",
        "\n",
        "**Sample Data**:\n",
        "\n",
        "([0, 3, 4, 7, 9]) -> False\n",
        "\n",
        "([3, 5, 7, 13]) -> True\n",
        "\n",
        "([1, 5, 3]) -> False\n",
        "\n",
        "7. Write a Python program to unpack a tuple into several variables.\n",
        "8. Write a Python program to convert a tuple to a string.\n",
        "9. Write a Python program to find repeated items in a tuple.\n",
        "10. Write a Python program to check if a given value is present in a set or not.\n",
        "11. Write a Python program to check if two given sets have no elements in common.\n",
        "12. Given two sets of numbers, write a Python program to find the missing numbers in the second set as compared to the first and vice versa. Use the Python set.\n",
        "13. Write a Python program to remove all duplicates from a given list of strings and return a list of unique strings. Use the Python set data type.\n",
        "14. Write a Python script to check whether a given key already exists in a dictionary.\n",
        "15. Write a Python script to generate and print a dictionary that contains a number (between 1 and n) in the form (x, x*x). Sample Dictionary: (n = 5). Expected Output : {1: 1, 2: 4, 3: 9, 4: 16, 5: 25}.\n",
        "16. Write a Python program to get the maximum and minimum values of a dictionary.\n",
        "17. Write a Python program to print all distinct values in a dictionary.\n",
        "Sample Data : [{\"V\":\"S001\"}, {\"V\": \"S002\"}, {\"VI\": \"S001\"}, {\"VI\": \"S005\"}, {\"VII\":\"S005\"}, {\"V\":\"S009\"},{\"VIII\":\"S007\"}].\n",
        "Expected Output : Unique Values: {'S005', 'S002', 'S007', 'S001', 'S009'}\n",
        "18. Write a Python program to filter even numbers from a dictionary of values.\n",
        "Original Dictionary:\n",
        "{'V': [1, 4, 6, 10], 'VI': [1, 4, 12], 'VII': [1, 3, 8]}.\n",
        "Filter even numbers from said dictionary values:\n",
        "{'V': [4, 6, 10], 'VI': [4, 12], 'VII': [8]}.\n",
        "Original Dictionary:\n",
        "{'V': [1, 3, 5], 'VI': [1, 5], 'VII': [2, 7, 9]}.\n",
        "Filter even numbers from said dictionary values:\n",
        "{'V': [], 'VI': [], 'VII': [2]}.\n",
        "\n"
      ],
      "metadata": {
        "id": "XdE3FQxlZCSd"
      }
    },
    {
      "cell_type": "markdown",
      "source": [
        "\n",
        "# Referências\n",
        "[1] https://www.w3schools.com/python/default.asp\n",
        "\n",
        "[2] https://docs.python.org/3/tutorial/index.html\n",
        "\n",
        "[3] https://www.tutorialspoint.com/python/index.htm\n"
      ],
      "metadata": {
        "id": "DFxhRjmndprc"
      }
    }
  ]
}