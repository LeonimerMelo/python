{
  "nbformat": 4,
  "nbformat_minor": 0,
  "metadata": {
    "colab": {
      "provenance": [],
      "include_colab_link": true
    },
    "kernelspec": {
      "name": "python3",
      "display_name": "Python 3"
    },
    "language_info": {
      "name": "python"
    }
  },
  "cells": [
    {
      "cell_type": "markdown",
      "metadata": {
        "id": "view-in-github",
        "colab_type": "text"
      },
      "source": [
        "<a href=\"https://colab.research.google.com/github/LeonimerMelo/python/blob/main/Python_Collections_(Arrays)_v1.ipynb\" target=\"_parent\"><img src=\"https://colab.research.google.com/assets/colab-badge.svg\" alt=\"Open In Colab\"/></a>"
      ]
    },
    {
      "cell_type": "markdown",
      "source": [
        "# Python: first steps\n",
        "Python Lists, Tuples, Sets and Dictionaries\n",
        "\n",
        "## Python Collections (Arrays)\n",
        "There are four collection data types in the Python programming language:\n",
        "\n",
        "* **List** is a collection which is ordered and changeable. Allows duplicate members.\n",
        "* **Tuple** is a collection which is ordered and unchangeable. Allows duplicate members.\n",
        "* **Set** is a collection which is unordered, unchangeable, and unindexed. No duplicate members.\n",
        "* **Dictionary** is a collection which is ordered and changeable. No duplicate members.\n",
        "\n",
        "When choosing a collection type, it is useful to understand the properties of that type. Choosing the right type for a particular data set could mean retention of meaning, and, it could mean an increase in efficiency or security."
      ],
      "metadata": {
        "id": "OnR1dEyfagJQ"
      }
    },
    {
      "cell_type": "markdown",
      "source": [
        "## Python Lists\n",
        "\n",
        "Lists are used to store multiple items in a single variable.\n",
        "\n",
        "Lists are created using square brackets."
      ],
      "metadata": {
        "id": "VNtW9rcYcJKV"
      }
    },
    {
      "cell_type": "code",
      "execution_count": null,
      "metadata": {
        "colab": {
          "base_uri": "https://localhost:8080/"
        },
        "id": "RhrWVWEBaeZy",
        "outputId": "99e4646a-edd7-4976-cae0-dfa7c4377d15"
      },
      "outputs": [
        {
          "output_type": "execute_result",
          "data": {
            "text/plain": [
              "['maçã', 'banana', 'cherry']"
            ]
          },
          "metadata": {},
          "execution_count": 1
        }
      ],
      "source": [
        "apple='maçã'\n",
        "mylist = [apple, \"banana\", \"cherry\"]\n",
        "mylist"
      ]
    },
    {
      "cell_type": "code",
      "source": [
        "list1 = [\"abc\", 34, True, 40.8, \"male\"]\n",
        "print(\"Minha lista: \", list1, type(list1))\n",
        "print(\"Tamanho da lista:\", len(list1))"
      ],
      "metadata": {
        "colab": {
          "base_uri": "https://localhost:8080/"
        },
        "id": "8vgEWRL4cp_T",
        "outputId": "8d74fce0-92e4-4d14-8490-9a45fac3ec66"
      },
      "execution_count": null,
      "outputs": [
        {
          "output_type": "stream",
          "name": "stdout",
          "text": [
            "Minha lista:  ['abc', 34, True, 40.8, 'male'] <class 'list'>\n",
            "Tamanho da lista: 5\n"
          ]
        }
      ]
    },
    {
      "cell_type": "markdown",
      "source": [
        "Accessing Values in Lists"
      ],
      "metadata": {
        "id": "h7oYgT3WfsVV"
      }
    },
    {
      "cell_type": "code",
      "source": [
        "print(\"3o item da lista 'list1': \", list1[2])"
      ],
      "metadata": {
        "colab": {
          "base_uri": "https://localhost:8080/"
        },
        "id": "mm5Phke9f5yX",
        "outputId": "e707be69-35e1-44f6-9109-ec3e415080eb"
      },
      "execution_count": null,
      "outputs": [
        {
          "output_type": "stream",
          "name": "stdout",
          "text": [
            "3o item da lista 'list1':  True\n"
          ]
        }
      ]
    },
    {
      "cell_type": "code",
      "source": [
        "# comentário lists\n",
        "list1 = ['physics', \"chemistry\", 1997, 2000];\n",
        "list2 = [1, 2, 3, 4, 5, 6, 7 ];\n",
        "print (\"list1[0]: \", list1[0])\n",
        "print (\"list1[1]: \", list1[1])\n",
        "print (\"list2[1:5]: \", list2[1:5])"
      ],
      "metadata": {
        "colab": {
          "base_uri": "https://localhost:8080/"
        },
        "id": "IHQkHR_De-N2",
        "outputId": "58853e22-6dde-445d-e2a7-519acdc6faac"
      },
      "execution_count": null,
      "outputs": [
        {
          "output_type": "stream",
          "name": "stdout",
          "text": [
            "list1[0]:  physics\n",
            "list1[1]:  chemistry\n",
            "list2[1:5]:  [2, 3, 4, 5]\n"
          ]
        }
      ]
    },
    {
      "cell_type": "markdown",
      "source": [
        "All slice operations return a new list containing the requested elements."
      ],
      "metadata": {
        "id": "wZdH8mEVW-PM"
      }
    },
    {
      "cell_type": "code",
      "source": [
        "squares = [1, 4, 9, 16, 25]\n",
        "print('squares[:]: ',squares[:])\n",
        "print('squares[-2:]: ',squares[-2:])"
      ],
      "metadata": {
        "colab": {
          "base_uri": "https://localhost:8080/"
        },
        "id": "f7voWSGXVnBz",
        "outputId": "d020bc89-2520-4e6f-be07-33bbbbb07024"
      },
      "execution_count": null,
      "outputs": [
        {
          "output_type": "stream",
          "name": "stdout",
          "text": [
            "squares[:]:  [1, 4, 9, 16, 25]\n",
            "squares[-2:]:  [16, 25]\n"
          ]
        }
      ]
    },
    {
      "cell_type": "markdown",
      "source": [
        "Lists are a mutable type, i.e. it is possible to change their content:"
      ],
      "metadata": {
        "id": "7hlxXB-7XReE"
      }
    },
    {
      "cell_type": "code",
      "source": [
        "cubes = [1, 8, 27, 65, 125]  # something's wrong here\n",
        "print(cubes)\n",
        "# 4 ** 3 = 64  # the cube of 4 is 64, not 65!\n",
        "cubes[3] = 64  # replace the wrong value\n",
        "cubes"
      ],
      "metadata": {
        "colab": {
          "base_uri": "https://localhost:8080/"
        },
        "id": "y1lW6EvTXTsF",
        "outputId": "d35ec445-1603-4777-84c1-742d7ac4859e"
      },
      "execution_count": null,
      "outputs": [
        {
          "output_type": "stream",
          "name": "stdout",
          "text": [
            "[1, 8, 27, 65, 125]\n"
          ]
        },
        {
          "output_type": "execute_result",
          "data": {
            "text/plain": [
              "[1, 8, 27, 64, 125]"
            ]
          },
          "metadata": {},
          "execution_count": 17
        }
      ]
    },
    {
      "cell_type": "markdown",
      "source": [
        "You can also add new items at the end of the list, by using the `append()` method"
      ],
      "metadata": {
        "id": "R9CX31hoXw41"
      }
    },
    {
      "cell_type": "code",
      "source": [
        "cubes.append(216)  # add the cube of 6\n",
        "cubes.append(7 ** 3)  # and the cube of 7\n",
        "cubes"
      ],
      "metadata": {
        "colab": {
          "base_uri": "https://localhost:8080/"
        },
        "id": "PzuNqYpoX3Yt",
        "outputId": "693d607d-565c-4865-9545-59a332d21057"
      },
      "execution_count": null,
      "outputs": [
        {
          "output_type": "execute_result",
          "data": {
            "text/plain": [
              "[1, 8, 27, 64, 125, 216, 343]"
            ]
          },
          "metadata": {},
          "execution_count": 18
        }
      ]
    },
    {
      "cell_type": "markdown",
      "source": [
        "Remove specified item"
      ],
      "metadata": {
        "id": "qKrKkm4IYQhA"
      }
    },
    {
      "cell_type": "code",
      "source": [
        "thislist = [\"apple\", \"banana\", \"cherry\"]\n",
        "thislist.remove(\"banana\")\n",
        "print(thislist)"
      ],
      "metadata": {
        "colab": {
          "base_uri": "https://localhost:8080/"
        },
        "id": "GH_KcsxfYRsw",
        "outputId": "88f9b40f-b494-4a52-bd66-1cd109aba449"
      },
      "execution_count": null,
      "outputs": [
        {
          "output_type": "stream",
          "name": "stdout",
          "text": [
            "['apple', 'cherry']\n"
          ]
        }
      ]
    },
    {
      "cell_type": "markdown",
      "source": [
        "## Python Tuples\n",
        "\n",
        "A tuple is a collection of objects which ordered and immutable. Tuples are sequences, just like lists. The differences between tuples and lists are, the tuples cannot be changed unlike lists and tuples use parentheses, whereas lists use square brackets.\n",
        "\n",
        "Creating a tuple is as simple as putting different comma-separated values. Optionally you can put these comma-separated values between parentheses also."
      ],
      "metadata": {
        "id": "6fD5eoLFdetx"
      }
    },
    {
      "cell_type": "code",
      "source": [
        "tup1 = ('physics', 'chemistry', 1997, 2000)\n",
        "tup2 = 1, 2, 3, 4, 5\n",
        "tup3 = \"a\", \"b\", \"c\", \"d\"\n",
        "print (\"Tuple tup1:\", tup1, type(tup1))\n",
        "print (\"Tuple tup2:\", tup2, type(tup2))\n",
        "print (\"Tuple tup3:\", tup3, type(tup3))"
      ],
      "metadata": {
        "colab": {
          "base_uri": "https://localhost:8080/"
        },
        "id": "IQNQs3HHddqv",
        "outputId": "03c2f5f2-325a-47b9-d6d5-9b12120ff91e"
      },
      "execution_count": null,
      "outputs": [
        {
          "output_type": "stream",
          "name": "stdout",
          "text": [
            "Tuple tup1: ('physics', 'chemistry', 1997, 2000) <class 'tuple'>\n",
            "Tuple tup2: (1, 2, 3, 4, 5) <class 'tuple'>\n",
            "Tuple tup3: ('a', 'b', 'c', 'd') <class 'tuple'>\n"
          ]
        }
      ]
    },
    {
      "cell_type": "markdown",
      "source": [
        "Looping"
      ],
      "metadata": {
        "id": "_s_HQ_lpJjMT"
      }
    },
    {
      "cell_type": "code",
      "source": [
        "tuple1 = (\"abc\", 34, True, 40, \"male\")\n",
        "for i in tuple1:\n",
        "  print(i)\n",
        "  a=i*2\n",
        "  print(a)"
      ],
      "metadata": {
        "colab": {
          "base_uri": "https://localhost:8080/"
        },
        "id": "7nl4eVoCIoPd",
        "outputId": "1dad0d60-d166-45d7-916d-4f5c825ea406"
      },
      "execution_count": null,
      "outputs": [
        {
          "output_type": "stream",
          "name": "stdout",
          "text": [
            "abc\n",
            "abcabc\n",
            "34\n",
            "68\n",
            "True\n",
            "2\n",
            "40\n",
            "80\n",
            "male\n",
            "malemale\n"
          ]
        }
      ]
    },
    {
      "cell_type": "markdown",
      "source": [
        "The empty tuple is written as two parentheses containing nothing"
      ],
      "metadata": {
        "id": "AfVmJ6tijrCu"
      }
    },
    {
      "cell_type": "code",
      "source": [
        "tup1 = ()\n",
        "tup1"
      ],
      "metadata": {
        "colab": {
          "base_uri": "https://localhost:8080/"
        },
        "id": "P6CEYirzpqyL",
        "outputId": "3e3307e6-f824-43ae-ec9a-1fe5e5bfee46"
      },
      "execution_count": null,
      "outputs": [
        {
          "output_type": "execute_result",
          "data": {
            "text/plain": [
              "()"
            ]
          },
          "metadata": {},
          "execution_count": 24
        }
      ]
    },
    {
      "cell_type": "markdown",
      "source": [
        "To write a tuple containing a single value you have to include a comma, even though there is only one value"
      ],
      "metadata": {
        "id": "FNtnWJZWp13P"
      }
    },
    {
      "cell_type": "code",
      "source": [
        "tuple1 = (50,)\n",
        "notTuple = (50)\n",
        "print (\"Tuple tuple1: \", tuple1, type(tuple1))\n",
        "print (\"notTuple: \", notTuple, type(notTuple))"
      ],
      "metadata": {
        "colab": {
          "base_uri": "https://localhost:8080/"
        },
        "id": "wkFAGpsqp2v6",
        "outputId": "d84bcbce-2e92-4b0a-e18b-e74eaeb39258"
      },
      "execution_count": null,
      "outputs": [
        {
          "output_type": "stream",
          "name": "stdout",
          "text": [
            "Tuple tuple1:  (50,) <class 'tuple'>\n",
            "notTuple:  50 <class 'int'>\n"
          ]
        }
      ]
    },
    {
      "cell_type": "markdown",
      "source": [
        "Accessing Values in Tuples"
      ],
      "metadata": {
        "id": "IaO4LNAlqd9V"
      }
    },
    {
      "cell_type": "code",
      "source": [
        "tup1 = ('physics', 'chemistry', 1997, 2000)\n",
        "tup2 = 1, 2, 3, 'j', 4, 5, 6, 7, 'a', \"OK\"\n",
        "print (\"tup1[0]: \", tup1[0])\n",
        "print (\"tup2[1:5]: \", tup2[1:5])"
      ],
      "metadata": {
        "colab": {
          "base_uri": "https://localhost:8080/"
        },
        "id": "PdNPU0Isqe9c",
        "outputId": "23f83949-b820-4631-ea69-d9d44363836f"
      },
      "execution_count": null,
      "outputs": [
        {
          "output_type": "stream",
          "name": "stdout",
          "text": [
            "tup1[0]:  physics\n",
            "tup2[1:5]:  (2, 3, 'j', 4)\n"
          ]
        }
      ]
    },
    {
      "cell_type": "markdown",
      "source": [
        "Tuples cannot be changed!"
      ],
      "metadata": {
        "id": "RY123n-hHlmA"
      }
    },
    {
      "cell_type": "code",
      "source": [
        "try:\n",
        "  tup1.append('error')\n",
        "except:\n",
        "  print('Error! Tuples cannot be append!')\n",
        "else:\n",
        "  print('append OK!')"
      ],
      "metadata": {
        "colab": {
          "base_uri": "https://localhost:8080/"
        },
        "id": "voKW7tHNHL2E",
        "outputId": "2f488e97-031b-4530-93ed-19e5129c2faf"
      },
      "execution_count": null,
      "outputs": [
        {
          "output_type": "stream",
          "name": "stdout",
          "text": [
            "Error! Tuples cannot be append!\n"
          ]
        }
      ]
    },
    {
      "cell_type": "markdown",
      "source": [
        "## Python Sets\n",
        "\n",
        "Sets are used to store multiple items in a single variable. A set is a collection which is *unordered*, *unchangeable*, and *unindexed*.\n",
        "\n",
        "**Unordered** means that the items in a set do not have a defined order. Set items can appear in a different order every time you use them, and cannot be referred to by index or key.\n",
        "\n",
        "**Unchangeable**. Set items are unchangeable, meaning that we cannot change the items after the set has been created. Once a set is created, you cannot change its items, but you can remove items and add new items.\n",
        "\n",
        "Basic uses include membership testing and eliminating duplicate entries. Set objects also support mathematical operations like union, intersection, difference, and symmetric difference.\n",
        "\n",
        "Sets are written with curly brackets."
      ],
      "metadata": {
        "id": "ta_7zYNdOCwF"
      }
    },
    {
      "cell_type": "code",
      "source": [
        "thisset = {\"apple\", \"banana\", \"cherry\"}\n",
        "print(thisset, type(thisset))"
      ],
      "metadata": {
        "colab": {
          "base_uri": "https://localhost:8080/"
        },
        "id": "VBlH6JKIPSnU",
        "outputId": "ea39dcc5-a6f0-416e-c0da-24ce1dfb73b4"
      },
      "execution_count": null,
      "outputs": [
        {
          "output_type": "stream",
          "name": "stdout",
          "text": [
            "{'cherry', 'apple', 'banana'} <class 'set'>\n"
          ]
        }
      ]
    },
    {
      "cell_type": "markdown",
      "source": [
        "Duplicates Not Allowed. Sets cannot have two items with the same value. Duplicate values will be ignored."
      ],
      "metadata": {
        "id": "yOfi35XrQi4i"
      }
    },
    {
      "cell_type": "code",
      "source": [
        "thisset = {\"pineapple\", \"apple\", \"banana\", \"cherry\", \"apple\"}\n",
        "print(thisset)"
      ],
      "metadata": {
        "colab": {
          "base_uri": "https://localhost:8080/"
        },
        "id": "jcTBttqwQukE",
        "outputId": "0e15f211-d20a-402e-bbda-b971d7b64498"
      },
      "execution_count": null,
      "outputs": [
        {
          "output_type": "stream",
          "name": "stdout",
          "text": [
            "{'cherry', 'pineapple', 'apple', 'banana'}\n"
          ]
        }
      ]
    },
    {
      "cell_type": "markdown",
      "source": [
        "The values `True` and `1` are considered the same value in sets, and are treated as duplicates:"
      ],
      "metadata": {
        "id": "LeBDYnNnReR6"
      }
    },
    {
      "cell_type": "code",
      "source": [
        "thisset = {\"apple\", \"banana\", \"cherry\", True, 1, 2, 2}\n",
        "print(thisset)"
      ],
      "metadata": {
        "colab": {
          "base_uri": "https://localhost:8080/"
        },
        "id": "ONigqbLSRfOo",
        "outputId": "303a0934-625f-4197-e6ad-1ef0a1e055a2"
      },
      "execution_count": null,
      "outputs": [
        {
          "output_type": "stream",
          "name": "stdout",
          "text": [
            "{True, 2, 'apple', 'banana', 'cherry'}\n"
          ]
        }
      ]
    },
    {
      "cell_type": "code",
      "source": [
        "# Creating a Set from a List with no duplicating\n",
        "list1 = [0, 1, 2, 3, 4, 5, 0]\n",
        "num_set = set(list1)\n",
        "num_set"
      ],
      "metadata": {
        "colab": {
          "base_uri": "https://localhost:8080/"
        },
        "id": "QPr5hat3Tt3S",
        "outputId": "28afc905-e1a7-40c9-b0ee-1e7a6391ca8b"
      },
      "execution_count": null,
      "outputs": [
        {
          "output_type": "execute_result",
          "data": {
            "text/plain": [
              "{0, 1, 2, 3, 4, 5}"
            ]
          },
          "metadata": {},
          "execution_count": 38
        }
      ]
    },
    {
      "cell_type": "code",
      "source": [
        "# Demonstrate set operations on unique letters from two words\n",
        "str_a = 'abracadabra'\n",
        "str_b = 'alacazam'\n",
        "print('string a:', str_a)\n",
        "print('string b:', str_b)\n",
        "set_a = set(str_a)\n",
        "set_b = set(str_b)\n",
        "# set transform string in unique letters in a\n",
        "print('letters in string a:', set_a)\n",
        "# letters in b\n",
        "print('letters in string b:', set_b)\n",
        "# letters in a but not in b\n",
        "print('letters in a but not in b:', set_a - set_b)\n",
        "# letters in a or b or both\n",
        "print('letters in a or b (both):', set_a | set_b)\n",
        "# letters in both a and b\n",
        "print('letters in a and b:', set_a & set_b)\n",
        "# letters in a excluive or b:\n",
        "print('letters in a excluive or b:', set_a ^ set_b)"
      ],
      "metadata": {
        "colab": {
          "base_uri": "https://localhost:8080/"
        },
        "id": "1gGQVDG9o_Mo",
        "outputId": "6572a6ec-4f23-4519-ed91-1b98f84a53bd"
      },
      "execution_count": null,
      "outputs": [
        {
          "output_type": "stream",
          "name": "stdout",
          "text": [
            "string a: abracadabra\n",
            "string b: alacazam\n",
            "letters in string a: {'b', 'a', 'd', 'r', 'c'}\n",
            "letters in string b: {'m', 'a', 'l', 'z', 'c'}\n",
            "letters in a but not in b: {'d', 'b', 'r'}\n",
            "letters in a or b (both): {'b', 'm', 'a', 'd', 'l', 'z', 'r', 'c'}\n",
            "letters in a and b: {'c', 'a'}\n",
            "letters in a excluive or b: {'z', 'b', 'r', 'm', 'd', 'l'}\n"
          ]
        }
      ]
    },
    {
      "cell_type": "markdown",
      "source": [
        "## Python Dictionary\n",
        "\n",
        "Python dictionary is a container of the unordered set of objects like lists. The objects are surrounded by curly braces { }. The items in a dictionary are a comma-separated list of key:value pairs where keys and values are Python data type.\n",
        "\n",
        "Dictionaries are sometimes found in other languages as “*associative memories*” or “*associative arrays*”. Unlike sequences, which are indexed by a range of numbers, dictionaries are indexed by keys, which can be any immutable type; strings and numbers can always be keys.\n",
        "\n",
        "The main operations on a dictionary are storing a value with some key and extracting the value given the key. It is also possible to delete a `key:value` pair with `del`. If you store using a key that is already in use, the old value associated with that key is forgotten. It is an error to extract a value using a non-existent key.\n",
        "\n",
        "Dictionaries are written with curly brackets, and have keys and values."
      ],
      "metadata": {
        "id": "CdU9EEONtiF1"
      }
    },
    {
      "cell_type": "code",
      "source": [
        "thisdict =\t{\n",
        "  \"brand\": \"Ford\",\n",
        "  \"model\": \"Mustang\",\n",
        "  \"year\": 1964\n",
        "}\n",
        "print(thisdict)"
      ],
      "metadata": {
        "colab": {
          "base_uri": "https://localhost:8080/"
        },
        "id": "_Wd530QZ578x",
        "outputId": "c25ae2b8-4ada-4dff-920b-d4859b0297b6"
      },
      "execution_count": null,
      "outputs": [
        {
          "output_type": "stream",
          "name": "stdout",
          "text": [
            "{'brand': 'Ford', 'model': 'Mustang', 'year': 1964}\n"
          ]
        }
      ]
    },
    {
      "cell_type": "markdown",
      "source": [
        "Dictionary items are ordered, changeable, and does not allow duplicates. Dictionary items are presented in `key:value` pairs, and can be referred to by using the key name."
      ],
      "metadata": {
        "id": "9ogaiRj-6xd5"
      }
    },
    {
      "cell_type": "code",
      "source": [
        "print(thisdict[\"brand\"])"
      ],
      "metadata": {
        "colab": {
          "base_uri": "https://localhost:8080/"
        },
        "id": "u33bnYYF65LF",
        "outputId": "28d66beb-7f65-4f92-b8e2-20a52f119235"
      },
      "execution_count": null,
      "outputs": [
        {
          "output_type": "stream",
          "name": "stdout",
          "text": [
            "Ford\n"
          ]
        }
      ]
    },
    {
      "cell_type": "markdown",
      "source": [
        "Duplicates Not Allowed. Dictionaries cannot have two items with the same key. Duplicate values will overwrite existing values."
      ],
      "metadata": {
        "id": "5QlbLWIh7Pas"
      }
    },
    {
      "cell_type": "code",
      "source": [
        "thisdict =\t{\n",
        "  \"brand\": \"Ford\",\n",
        "  \"model\": \"Mustang\",\n",
        "  \"year\": 1964,\n",
        "  \"year\": 2020\n",
        "}\n",
        "print(thisdict)"
      ],
      "metadata": {
        "colab": {
          "base_uri": "https://localhost:8080/"
        },
        "id": "MJ6o7NH17FEe",
        "outputId": "3465e99f-7130-45fa-e1e5-2928d2e644c2"
      },
      "execution_count": null,
      "outputs": [
        {
          "output_type": "stream",
          "name": "stdout",
          "text": [
            "{'brand': 'Ford', 'model': 'Mustang', 'year': 2020}\n"
          ]
        }
      ]
    },
    {
      "cell_type": "code",
      "source": [
        "# append data into dictionary\n",
        "tel = {'jack': 14098, 'sape': 4139}\n",
        "print(tel)\n",
        "tel['guido'] = 4127\n",
        "tel"
      ],
      "metadata": {
        "colab": {
          "base_uri": "https://localhost:8080/"
        },
        "id": "0Co92VshupW7",
        "outputId": "5b290068-700a-48ba-9df9-7a5007ee855a"
      },
      "execution_count": null,
      "outputs": [
        {
          "output_type": "stream",
          "name": "stdout",
          "text": [
            "{'jack': 14098, 'sape': 4139}\n"
          ]
        },
        {
          "output_type": "execute_result",
          "data": {
            "text/plain": [
              "{'jack': 14098, 'sape': 4139, 'guido': 4127}"
            ]
          },
          "metadata": {},
          "execution_count": 44
        }
      ]
    },
    {
      "cell_type": "code",
      "source": [
        "# Performing list(d) on a dictionary returns a list of all the keys used in the dictionary\n",
        "list(tel)"
      ],
      "metadata": {
        "colab": {
          "base_uri": "https://localhost:8080/"
        },
        "id": "EC_61tVEvXkk",
        "outputId": "a82952f7-db1e-4e55-a300-f8cc30c15eb9"
      },
      "execution_count": null,
      "outputs": [
        {
          "output_type": "execute_result",
          "data": {
            "text/plain": [
              "['jack', 'sape', 'guido']"
            ]
          },
          "metadata": {},
          "execution_count": 45
        }
      ]
    },
    {
      "cell_type": "code",
      "source": [
        "# Insertion order, if you want it sorted, just use sorted(d) instead\n",
        "sorted(tel)"
      ],
      "metadata": {
        "colab": {
          "base_uri": "https://localhost:8080/"
        },
        "id": "wWcy3LBiwDQu",
        "outputId": "b1f5d6d3-71b7-4937-fcc2-f0320398634a"
      },
      "execution_count": null,
      "outputs": [
        {
          "output_type": "execute_result",
          "data": {
            "text/plain": [
              "['guido', 'jack', 'sape']"
            ]
          },
          "metadata": {},
          "execution_count": 46
        }
      ]
    },
    {
      "cell_type": "markdown",
      "source": [
        "# Exercícios:\n",
        "\n",
        "1.   Write a Python program to get the largest number from a list.\n",
        "2.   Write a Python program to remove duplicates from a list.\n",
        "3. Write a Python program to check if a list is empty or not.\n",
        "4. Write a Python function that takes two lists and returns True if they have at least one common member.\n",
        "5. Write a Python program to generate and print a list of the first and last 5 elements where the values are square numbers between 1 and 30 (both included).\n",
        "6.  Write a Python program to check if each number is prime in a given list of numbers. Return True if all numbers are prime otherwise False.\n",
        "\n",
        "**Sample Data**:\n",
        "\n",
        "([0, 3, 4, 7, 9]) -> False\n",
        "\n",
        "([3, 5, 7, 13]) -> True\n",
        "\n",
        "([1, 5, 3]) -> False\n",
        "\n",
        "7. Write a Python program to unpack a tuple into several variables.\n",
        "8. Write a Python program to convert a tuple to a string.\n",
        "9. Write a Python program to find repeated items in a tuple.\n",
        "10. Write a Python program to check if a given value is present in a set or not.\n",
        "11. Write a Python program to check if two given sets have no elements in common.\n",
        "12. Given two sets of numbers, write a Python program to find the missing numbers in the second set as compared to the first and vice versa. Use the Python set.\n",
        "13. Write a Python program to remove all duplicates from a given list of strings and return a list of unique strings. Use the Python set data type.\n",
        "14. Write a Python script to check whether a given key already exists in a dictionary.\n",
        "15. Write a Python script to generate and print a dictionary that contains a number (between 1 and n) in the form (x, x*x). Sample Dictionary: (n = 5). Expected Output : {1: 1, 2: 4, 3: 9, 4: 16, 5: 25}.\n",
        "16. Write a Python program to get the maximum and minimum values of a dictionary.\n",
        "17. Write a Python program to print all distinct values in a dictionary.\n",
        "Sample Data : [{\"V\":\"S001\"}, {\"V\": \"S002\"}, {\"VI\": \"S001\"}, {\"VI\": \"S005\"}, {\"VII\":\"S005\"}, {\"V\":\"S009\"},{\"VIII\":\"S007\"}].\n",
        "Expected Output : Unique Values: {'S005', 'S002', 'S007', 'S001', 'S009'}\n",
        "18. Write a Python program to filter even numbers from a dictionary of values.\n",
        "Original Dictionary:\n",
        "{'V': [1, 4, 6, 10], 'VI': [1, 4, 12], 'VII': [1, 3, 8]}.\n",
        "Filter even numbers from said dictionary values:\n",
        "{'V': [4, 6, 10], 'VI': [4, 12], 'VII': [8]}.\n",
        "Original Dictionary:\n",
        "{'V': [1, 3, 5], 'VI': [1, 5], 'VII': [2, 7, 9]}.\n",
        "Filter even numbers from said dictionary values:\n",
        "{'V': [], 'VI': [], 'VII': [2]}.\n",
        "\n"
      ],
      "metadata": {
        "id": "XdE3FQxlZCSd"
      }
    },
    {
      "cell_type": "markdown",
      "source": [
        "\n",
        "# Referências\n",
        "[1] https://www.w3schools.com/python/default.asp\n",
        "\n",
        "[2] https://docs.python.org/3/tutorial/index.html\n",
        "\n",
        "[3] https://www.tutorialspoint.com/python/index.htm\n"
      ],
      "metadata": {
        "id": "DFxhRjmndprc"
      }
    },
    {
      "cell_type": "markdown",
      "source": [
        "###Exercício 01"
      ],
      "metadata": {
        "id": "PV68isow191-"
      }
    },
    {
      "cell_type": "code",
      "source": [
        "a=10\n",
        "a"
      ],
      "metadata": {
        "colab": {
          "base_uri": "https://localhost:8080/"
        },
        "id": "NqK5lHYD2B_p",
        "outputId": "725d74af-455a-4275-fbc9-cb8942790751"
      },
      "execution_count": null,
      "outputs": [
        {
          "output_type": "execute_result",
          "data": {
            "text/plain": [
              "10"
            ]
          },
          "metadata": {},
          "execution_count": 19
        }
      ]
    },
    {
      "cell_type": "code",
      "source": [
        "#Exercício 02\n",
        "codigo=10\n",
        "codigo"
      ],
      "metadata": {
        "colab": {
          "base_uri": "https://localhost:8080/"
        },
        "id": "m6x9eX9U2GMB",
        "outputId": "89e2c5b1-d4d5-46d6-d102-ecf711ada43b"
      },
      "execution_count": null,
      "outputs": [
        {
          "output_type": "execute_result",
          "data": {
            "text/plain": [
              "10"
            ]
          },
          "metadata": {},
          "execution_count": 20
        }
      ]
    }
  ]
}