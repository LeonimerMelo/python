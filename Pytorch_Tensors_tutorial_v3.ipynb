{
  "nbformat": 4,
  "nbformat_minor": 0,
  "metadata": {
    "colab": {
      "provenance": [],
      "authorship_tag": "ABX9TyNnlWEmfwoD7GCIbaY5NK+0",
      "include_colab_link": true
    },
    "kernelspec": {
      "name": "python3",
      "display_name": "Python 3"
    },
    "language_info": {
      "name": "python"
    }
  },
  "cells": [
    {
      "cell_type": "markdown",
      "metadata": {
        "id": "view-in-github",
        "colab_type": "text"
      },
      "source": [
        "<a href=\"https://colab.research.google.com/github/LeonimerMelo/python/blob/Pytorch/Pytorch_Tensors_tutorial_v3.ipynb\" target=\"_parent\"><img src=\"https://colab.research.google.com/assets/colab-badge.svg\" alt=\"Open In Colab\"/></a>"
      ]
    },
    {
      "cell_type": "code",
      "source": [
        "!pip install torch -q"
      ],
      "metadata": {
        "id": "nxeqvyU7odm3"
      },
      "execution_count": null,
      "outputs": []
    },
    {
      "cell_type": "code",
      "execution_count": 1,
      "metadata": {
        "id": "OE7YBYIkVF-y"
      },
      "outputs": [],
      "source": [
        "import torch\n",
        "import numpy as np"
      ]
    },
    {
      "cell_type": "code",
      "source": [
        "data = [[1, 2],[3, 4]]\n",
        "print('data:', data, '\\ndata type:', type(data))\n",
        "x_data = torch.tensor(data)\n",
        "print('\\ntensor:\\n', x_data, '\\nx_data type:', type(x_data))\n",
        "np_array = np.array(data)\n",
        "print('\\nnp array:\\n', np_array, '\\nnp_array type:', type(np_array))\n",
        "x_np = torch.from_numpy(np_array)\n",
        "print('\\ntensor form np array:\\n', x_np, '\\nx_np type:', type(x_np))\n",
        "np_x = x_np.numpy()\n",
        "print('\\nnp array from tensor:\\n', np_x, '\\nnp_x type:', type(np_x))"
      ],
      "metadata": {
        "colab": {
          "base_uri": "https://localhost:8080/"
        },
        "id": "uehjX96hVLoJ",
        "outputId": "a8bc8d32-9d61-4977-befa-35363c72c897"
      },
      "execution_count": 14,
      "outputs": [
        {
          "output_type": "stream",
          "name": "stdout",
          "text": [
            "data: [[1, 2], [3, 4]] \n",
            "data type: <class 'list'>\n",
            "\n",
            "tensor:\n",
            " tensor([[1, 2],\n",
            "        [3, 4]]) \n",
            "x_data type: <class 'torch.Tensor'>\n",
            "\n",
            "np array:\n",
            " [[1 2]\n",
            " [3 4]] \n",
            "np_array type: <class 'numpy.ndarray'>\n",
            "\n",
            "tensor form np array:\n",
            " tensor([[1, 2],\n",
            "        [3, 4]]) \n",
            "x_np type: <class 'torch.Tensor'>\n",
            "\n",
            "np array from tensor:\n",
            " [[1 2]\n",
            " [3 4]] \n",
            "np_x type: <class 'numpy.ndarray'>\n"
          ]
        }
      ]
    },
    {
      "cell_type": "code",
      "source": [
        "x_ones = torch.ones_like(x_data) # retains the properties of x_data\n",
        "print(f\"\\nOnes Tensor: \\n {x_ones}\")"
      ],
      "metadata": {
        "colab": {
          "base_uri": "https://localhost:8080/"
        },
        "id": "Iu8V9NAKVka2",
        "outputId": "e5a12024-2b1c-40cd-bc82-324da029acec"
      },
      "execution_count": 11,
      "outputs": [
        {
          "output_type": "stream",
          "name": "stdout",
          "text": [
            "\n",
            "Ones Tensor: \n",
            " tensor([[1, 1],\n",
            "        [1, 1]])\n"
          ]
        }
      ]
    },
    {
      "cell_type": "code",
      "source": [
        "x_rand = torch.rand_like(x_data, dtype=torch.float) # overrides the datatype of x_data\n",
        "print(f\"Random Tensor:\\n{x_rand}\")"
      ],
      "metadata": {
        "colab": {
          "base_uri": "https://localhost:8080/"
        },
        "id": "CQzwep42VnWe",
        "outputId": "4fee6270-393c-4d0f-d8d3-2ccb25a66eb0"
      },
      "execution_count": 12,
      "outputs": [
        {
          "output_type": "stream",
          "name": "stdout",
          "text": [
            "Random Tensor:\n",
            "tensor([[0.7244, 0.7558],\n",
            "        [0.9382, 0.6647]])\n"
          ]
        }
      ]
    },
    {
      "cell_type": "code",
      "source": [
        "shape = (2,3,)\n",
        "rand_tensor = torch.rand(shape)\n",
        "ones_tensor = torch.ones(shape)\n",
        "zeros_tensor = torch.zeros(shape)\n",
        "\n",
        "print(f\"Random Tensor: \\n {rand_tensor} \\n\")\n",
        "print(f\"Ones Tensor: \\n {ones_tensor} \\n\")\n",
        "print(f\"Zeros Tensor: \\n {zeros_tensor}\")"
      ],
      "metadata": {
        "colab": {
          "base_uri": "https://localhost:8080/"
        },
        "id": "ntC0hhEvV-O2",
        "outputId": "d3dd7afd-9c18-4976-d252-bc9434d7a15c"
      },
      "execution_count": null,
      "outputs": [
        {
          "output_type": "stream",
          "name": "stdout",
          "text": [
            "Random Tensor: \n",
            " tensor([[0.3593, 0.0562, 0.8433],\n",
            "        [0.1889, 0.7287, 0.2790]]) \n",
            "\n",
            "Ones Tensor: \n",
            " tensor([[1., 1., 1.],\n",
            "        [1., 1., 1.]]) \n",
            "\n",
            "Zeros Tensor: \n",
            " tensor([[0., 0., 0.],\n",
            "        [0., 0., 0.]])\n"
          ]
        }
      ]
    },
    {
      "cell_type": "code",
      "source": [
        "tensor = torch.rand(3,4)\n",
        "print(tensor)\n",
        "print(f\"Shape of tensor: {tensor.shape}\")\n",
        "print(f\"Datatype of tensor: {tensor.dtype}\")\n",
        "print(f\"Device tensor is stored on: {tensor.device}\")"
      ],
      "metadata": {
        "colab": {
          "base_uri": "https://localhost:8080/"
        },
        "id": "Q_1-V_vcWEVm",
        "outputId": "7dc80b9b-fb83-4cb4-9771-0b4cb5544650"
      },
      "execution_count": null,
      "outputs": [
        {
          "output_type": "stream",
          "name": "stdout",
          "text": [
            "tensor([[0.5414, 0.7258, 0.8946, 0.5034],\n",
            "        [0.5641, 0.8288, 0.5182, 0.3743],\n",
            "        [0.8911, 0.3693, 0.5956, 0.7441]])\n",
            "Shape of tensor: torch.Size([3, 4])\n",
            "Datatype of tensor: torch.float32\n",
            "Device tensor is stored on: cpu\n"
          ]
        }
      ]
    },
    {
      "cell_type": "code",
      "source": [
        "# We move our tensor to the current accelerator if available\n",
        "if torch.accelerator.is_available():\n",
        "    tensor = tensor.to(torch.accelerator.current_accelerator())\n",
        "print(f\"Device tensor is stored on: {tensor.device}\")"
      ],
      "metadata": {
        "colab": {
          "base_uri": "https://localhost:8080/"
        },
        "id": "jpP1O741WX-O",
        "outputId": "ac85823d-e957-4ca3-f243-9576a8f6393f"
      },
      "execution_count": null,
      "outputs": [
        {
          "output_type": "stream",
          "name": "stdout",
          "text": [
            "Device tensor is stored on: cuda:0\n"
          ]
        }
      ]
    },
    {
      "cell_type": "code",
      "source": [
        "tensor = torch.ones(4, 4)\n",
        "print(tensor)\n",
        "print(f\"First row: {tensor[0]}\")\n",
        "print(f\"First column: {tensor[:, 0]}\")\n",
        "print(f\"Last column: {tensor[..., -1]}\")"
      ],
      "metadata": {
        "colab": {
          "base_uri": "https://localhost:8080/"
        },
        "id": "vXtgh89EWtKn",
        "outputId": "fd997538-3fbc-49ce-9b8a-7ea13d692bbe"
      },
      "execution_count": null,
      "outputs": [
        {
          "output_type": "stream",
          "name": "stdout",
          "text": [
            "tensor([[1., 1., 1., 1.],\n",
            "        [1., 1., 1., 1.],\n",
            "        [1., 1., 1., 1.],\n",
            "        [1., 1., 1., 1.]])\n",
            "First row: tensor([1., 1., 1., 1.])\n",
            "First column: tensor([1., 1., 1., 1.])\n",
            "Last column: tensor([1., 1., 1., 1.])\n"
          ]
        }
      ]
    },
    {
      "cell_type": "code",
      "source": [
        "tensor[:,1] = 0\n",
        "print(tensor)\n",
        "t1 = torch.cat([tensor, tensor, tensor], dim=1)\n",
        "print(t1)"
      ],
      "metadata": {
        "colab": {
          "base_uri": "https://localhost:8080/"
        },
        "id": "-GJmp-w9W1S_",
        "outputId": "9e83578b-3d20-402d-b4cb-fd25ad064fd0"
      },
      "execution_count": null,
      "outputs": [
        {
          "output_type": "stream",
          "name": "stdout",
          "text": [
            "tensor([[1., 0., 1., 1.],\n",
            "        [1., 0., 1., 1.],\n",
            "        [1., 0., 1., 1.],\n",
            "        [1., 0., 1., 1.]])\n",
            "tensor([[1., 0., 1., 1., 1., 0., 1., 1., 1., 0., 1., 1.],\n",
            "        [1., 0., 1., 1., 1., 0., 1., 1., 1., 0., 1., 1.],\n",
            "        [1., 0., 1., 1., 1., 0., 1., 1., 1., 0., 1., 1.],\n",
            "        [1., 0., 1., 1., 1., 0., 1., 1., 1., 0., 1., 1.]])\n"
          ]
        }
      ]
    },
    {
      "cell_type": "code",
      "source": [
        "a = torch.tensor([[1,1],[2,2]], dtype=float)\n",
        "print(a)\n",
        "b = a.T\n",
        "print(b)"
      ],
      "metadata": {
        "colab": {
          "base_uri": "https://localhost:8080/"
        },
        "id": "aqNU6DJKW8qf",
        "outputId": "3b5f4d0c-86bb-4538-fbbe-9a7a7a7fd0bb"
      },
      "execution_count": null,
      "outputs": [
        {
          "output_type": "stream",
          "name": "stdout",
          "text": [
            "tensor([[1., 1.],\n",
            "        [2., 2.]], dtype=torch.float64)\n",
            "tensor([[1., 2.],\n",
            "        [1., 2.]], dtype=torch.float64)\n"
          ]
        }
      ]
    },
    {
      "cell_type": "code",
      "source": [
        "# This computes the matrix multiplication between two tensors.\n",
        "y1 = a @ b\n",
        "print(y1)"
      ],
      "metadata": {
        "colab": {
          "base_uri": "https://localhost:8080/"
        },
        "id": "FW5imhh6XBOw",
        "outputId": "d0fc6cda-0207-403e-f927-95ffe69d35c0"
      },
      "execution_count": null,
      "outputs": [
        {
          "output_type": "stream",
          "name": "stdout",
          "text": [
            "tensor([[2., 4.],\n",
            "        [4., 8.]], dtype=torch.float64)\n"
          ]
        }
      ]
    },
    {
      "cell_type": "code",
      "source": [
        "# This computes the element-wise product.\n",
        "z1 = a * b\n",
        "print(z1)\n",
        "z2 = a.mul(b)\n",
        "print(z2)"
      ],
      "metadata": {
        "colab": {
          "base_uri": "https://localhost:8080/"
        },
        "id": "2Q0Sih_fXG3_",
        "outputId": "e5f3e077-1d00-48c3-8da5-07b317975dd9"
      },
      "execution_count": null,
      "outputs": [
        {
          "output_type": "stream",
          "name": "stdout",
          "text": [
            "tensor([[1., 2.],\n",
            "        [2., 4.]], dtype=torch.float64)\n",
            "tensor([[1., 2.],\n",
            "        [2., 4.]], dtype=torch.float64)\n"
          ]
        }
      ]
    },
    {
      "cell_type": "code",
      "source": [
        "y2 = torch.rand_like(a)\n",
        "print(y2)\n",
        "torch.mul(a, b, out=y2)\n",
        "print(y2)"
      ],
      "metadata": {
        "colab": {
          "base_uri": "https://localhost:8080/"
        },
        "id": "QJ5--XTgXNFX",
        "outputId": "1c6f5875-38af-4c0e-d03b-91f77e13064e"
      },
      "execution_count": null,
      "outputs": [
        {
          "output_type": "stream",
          "name": "stdout",
          "text": [
            "tensor([[0.3761, 0.7811],\n",
            "        [0.0748, 0.3160]], dtype=torch.float64)\n",
            "tensor([[1., 2.],\n",
            "        [2., 4.]], dtype=torch.float64)\n"
          ]
        }
      ]
    },
    {
      "cell_type": "code",
      "source": [
        "y3 = a.matmul(b)\n",
        "print(y3)"
      ],
      "metadata": {
        "colab": {
          "base_uri": "https://localhost:8080/"
        },
        "id": "lM0MLuC_XVG3",
        "outputId": "898902df-7de5-449a-90fe-59288c6dfd21"
      },
      "execution_count": null,
      "outputs": [
        {
          "output_type": "stream",
          "name": "stdout",
          "text": [
            "tensor([[2., 4.],\n",
            "        [4., 8.]], dtype=torch.float64)\n"
          ]
        }
      ]
    },
    {
      "cell_type": "code",
      "source": [
        "y4 = torch.rand_like(a)\n",
        "print(y4)\n",
        "y5 = torch.matmul(a, b, out=y4)\n",
        "print(y5)"
      ],
      "metadata": {
        "colab": {
          "base_uri": "https://localhost:8080/"
        },
        "id": "jgfwh5LkXY_n",
        "outputId": "48c38a49-86e2-40b5-c210-8fa76bfbb760"
      },
      "execution_count": null,
      "outputs": [
        {
          "output_type": "stream",
          "name": "stdout",
          "text": [
            "tensor([[0.9467, 0.7889],\n",
            "        [0.7071, 0.6122]], dtype=torch.float64)\n",
            "tensor([[2., 4.],\n",
            "        [4., 8.]], dtype=torch.float64)\n"
          ]
        }
      ]
    },
    {
      "cell_type": "code",
      "source": [
        "agg = a.sum()\n",
        "agg_item = agg.item()\n",
        "print(agg_item, type(agg_item))"
      ],
      "metadata": {
        "colab": {
          "base_uri": "https://localhost:8080/"
        },
        "id": "LYmyYbLjXeS3",
        "outputId": "56e21625-04f5-44ce-99d4-be373628bbf2"
      },
      "execution_count": null,
      "outputs": [
        {
          "output_type": "stream",
          "name": "stdout",
          "text": [
            "6.0 <class 'float'>\n"
          ]
        }
      ]
    },
    {
      "cell_type": "code",
      "source": [
        "print(f\"{a} \\n\")\n",
        "# copy a tensor and detach from the computation graph\n",
        "c = a.clone().detach()\n",
        "print(c)\n",
        "c.add_(5)\n",
        "print(c)"
      ],
      "metadata": {
        "colab": {
          "base_uri": "https://localhost:8080/"
        },
        "id": "qWmuszt0XjXh",
        "outputId": "66661017-07c1-42b8-e3e2-8928010e9ae7"
      },
      "execution_count": null,
      "outputs": [
        {
          "output_type": "stream",
          "name": "stdout",
          "text": [
            "tensor([[1., 1.],\n",
            "        [2., 2.]], dtype=torch.float64) \n",
            "\n",
            "tensor([[1., 1.],\n",
            "        [2., 2.]], dtype=torch.float64)\n",
            "tensor([[6., 6.],\n",
            "        [7., 7.]], dtype=torch.float64)\n"
          ]
        }
      ]
    },
    {
      "cell_type": "code",
      "source": [
        "x = torch.zeros(2, 1, 2, 1, 2).int()\n",
        "print(x.size())\n",
        "# Returns a tensor with all specified dimensions of input of size 1 removed\n",
        "y = torch.squeeze(x)\n",
        "print(y.size())\n",
        "# Returns a new tensor with a dimension of size one inserted at the specified position.\n",
        "y1 = torch.unsqueeze(y, 0)\n",
        "print(y1.size())\n",
        "print(y1.type())"
      ],
      "metadata": {
        "colab": {
          "base_uri": "https://localhost:8080/"
        },
        "id": "2vaUI8OsXrPX",
        "outputId": "b43c6d86-9cbd-433b-aa8d-f4683e31dacd"
      },
      "execution_count": null,
      "outputs": [
        {
          "output_type": "stream",
          "name": "stdout",
          "text": [
            "torch.Size([2, 1, 2, 1, 2])\n",
            "torch.Size([2, 2, 2])\n",
            "torch.Size([1, 2, 2, 2])\n",
            "torch.IntTensor\n"
          ]
        }
      ]
    },
    {
      "cell_type": "code",
      "source": [
        "y2 = y.unsqueeze(1)\n",
        "print(y2.shape)"
      ],
      "metadata": {
        "colab": {
          "base_uri": "https://localhost:8080/"
        },
        "id": "kaJKU7paYMLv",
        "outputId": "e30cbe08-f4bd-4796-cafa-c007271d0341"
      },
      "execution_count": null,
      "outputs": [
        {
          "output_type": "stream",
          "name": "stdout",
          "text": [
            "torch.Size([2, 1, 2, 2])\n"
          ]
        }
      ]
    },
    {
      "cell_type": "code",
      "source": [
        "y3 = torch.unsqueeze(y, 2).float()\n",
        "print(y3.size())\n",
        "print(y3.type())"
      ],
      "metadata": {
        "colab": {
          "base_uri": "https://localhost:8080/"
        },
        "id": "vIK-pFktYReQ",
        "outputId": "26d931e3-7d9e-4a5b-db62-6b0be12344f6"
      },
      "execution_count": null,
      "outputs": [
        {
          "output_type": "stream",
          "name": "stdout",
          "text": [
            "torch.Size([2, 2, 1, 2])\n",
            "torch.FloatTensor\n"
          ]
        }
      ]
    },
    {
      "cell_type": "code",
      "source": [
        "# squeeze(input, 0) leaves the tensor unchanged\n",
        "y = torch.squeeze(x, 0)\n",
        "print(y.size())\n",
        "# squeeze(input, n) will squeeze size 1 of tensor on first 'n' dimension shape\n",
        "y = torch.squeeze(x, 1)\n",
        "print(y.size())\n",
        "z = torch.squeeze(y, 2)\n",
        "print(z.size())\n",
        "y = torch.squeeze(x, (1, 2, 3))\n",
        "print(y.size())"
      ],
      "metadata": {
        "colab": {
          "base_uri": "https://localhost:8080/"
        },
        "id": "wXZsbYWtYZfg",
        "outputId": "efc185b7-eebd-4378-a52e-8381e9d438a4"
      },
      "execution_count": null,
      "outputs": [
        {
          "output_type": "stream",
          "name": "stdout",
          "text": [
            "torch.Size([2, 1, 2, 1, 2])\n",
            "torch.Size([2, 2, 1, 2])\n",
            "torch.Size([2, 2, 2])\n",
            "torch.Size([2, 2, 2])\n"
          ]
        }
      ]
    },
    {
      "cell_type": "code",
      "source": [
        "# np array\n",
        "print(x.shape)\n",
        "s = np.expand_dims(x, axis=0)\n",
        "print(s.shape)\n",
        "s = np.expand_dims(x, axis=-1)\n",
        "print(s.shape)"
      ],
      "metadata": {
        "colab": {
          "base_uri": "https://localhost:8080/"
        },
        "id": "_TES39cMYiyH",
        "outputId": "909ac245-ed92-492e-abda-5bf1f47356b1"
      },
      "execution_count": null,
      "outputs": [
        {
          "output_type": "stream",
          "name": "stdout",
          "text": [
            "torch.Size([2, 1, 2, 1, 2])\n",
            "(1, 2, 1, 2, 1, 2)\n",
            "(2, 1, 2, 1, 2, 1)\n"
          ]
        }
      ]
    },
    {
      "cell_type": "code",
      "source": [
        "# Returns a view of the original tensor input with its dimensions permuted.\n",
        "x1 = torch.zeros(1, 2, 3, 4)\n",
        "print(x1.size())\n",
        "s = torch.permute(x1, (3, 2, 0, 1))\n",
        "print(s.shape)"
      ],
      "metadata": {
        "colab": {
          "base_uri": "https://localhost:8080/"
        },
        "id": "zXcx1hbVY2HH",
        "outputId": "857f20a7-a1da-4e4e-8e5c-73958cc91778"
      },
      "execution_count": null,
      "outputs": [
        {
          "output_type": "stream",
          "name": "stdout",
          "text": [
            "torch.Size([1, 2, 3, 4])\n",
            "torch.Size([4, 3, 1, 2])\n"
          ]
        }
      ]
    }
  ]
}