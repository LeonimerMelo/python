{
  "nbformat": 4,
  "nbformat_minor": 0,
  "metadata": {
    "colab": {
      "provenance": [],
      "authorship_tag": "ABX9TyPDWWDLMTbWKMm5M830s3fM",
      "include_colab_link": true
    },
    "kernelspec": {
      "name": "python3",
      "display_name": "Python 3"
    },
    "language_info": {
      "name": "python"
    }
  },
  "cells": [
    {
      "cell_type": "markdown",
      "metadata": {
        "id": "view-in-github",
        "colab_type": "text"
      },
      "source": [
        "<a href=\"https://colab.research.google.com/github/LeonimerMelo/python/blob/main/Python_NumPy_v2.ipynb\" target=\"_parent\"><img src=\"https://colab.research.google.com/assets/colab-badge.svg\" alt=\"Open In Colab\"/></a>"
      ]
    },
    {
      "cell_type": "markdown",
      "source": [
        "# Python NumPy\n",
        "NumPy’s main object is the homogeneous multidimensional array. It is a table of elements (usually numbers), all of the same type, indexed by a tuple of non-negative integers. In NumPy dimensions are called *axes*.\n",
        "\n",
        "For example, the array for the coordinates of a point in 3D space, `[1, 2, 1]`, has one axis. That axis has 3 elements in it, so we say it has a length of 3.\n",
        "\n",
        "In the example below, the array has 2 axes. The first axis has a length of 2, the second axis has a length of 3."
      ],
      "metadata": {
        "id": "DWdBGdna2D1E"
      }
    },
    {
      "cell_type": "code",
      "execution_count": null,
      "metadata": {
        "colab": {
          "base_uri": "https://localhost:8080/"
        },
        "id": "KAw9ecE51uu7",
        "outputId": "cccf5f1d-c488-4008-d514-36ec0107676a"
      },
      "outputs": [
        {
          "output_type": "stream",
          "name": "stdout",
          "text": [
            "array a: [0 1 2 3 4 5 6 7 8]\n"
          ]
        }
      ],
      "source": [
        "import numpy as np\n",
        "a = np.arange(9, dtype=np.int16)\n",
        "print('array a:', a)"
      ]
    },
    {
      "cell_type": "code",
      "source": [
        "b = a.reshape(3, 3)\n",
        "print('array b:\\n', b)"
      ],
      "metadata": {
        "colab": {
          "base_uri": "https://localhost:8080/"
        },
        "id": "yaRXT6tnCLkd",
        "outputId": "999ad346-d674-41ed-85ea-dc427405c38f"
      },
      "execution_count": null,
      "outputs": [
        {
          "output_type": "stream",
          "name": "stdout",
          "text": [
            "array b:\n",
            " [[0 1 2]\n",
            " [3 4 5]\n",
            " [6 7 8]]\n"
          ]
        }
      ]
    },
    {
      "cell_type": "code",
      "source": [
        "c = np.zeros((2,3,4))\n",
        "print('array c:\\n', c)"
      ],
      "metadata": {
        "colab": {
          "base_uri": "https://localhost:8080/"
        },
        "id": "bnGFAKetFg8I",
        "outputId": "8796625d-85aa-4e16-e8e2-aa7bd4222c9a"
      },
      "execution_count": null,
      "outputs": [
        {
          "output_type": "stream",
          "name": "stdout",
          "text": [
            "array c:\n",
            " [[[0. 0. 0. 0.]\n",
            "  [0. 0. 0. 0.]\n",
            "  [0. 0. 0. 0.]]\n",
            "\n",
            " [[0. 0. 0. 0.]\n",
            "  [0. 0. 0. 0.]\n",
            "  [0. 0. 0. 0.]]]\n"
          ]
        }
      ]
    },
    {
      "cell_type": "markdown",
      "source": [
        "**ndarray.shape**: the dimensions of the array. This is a tuple of integers indicating the size of the array in each dimension. For a matrix with n rows and m columns, shape will be (n,m). The length of the shape tuple is therefore the number of axes, ndim."
      ],
      "metadata": {
        "id": "8GgjeTW1EzPd"
      }
    },
    {
      "cell_type": "code",
      "source": [
        "print('a shape:', a.shape)\n",
        "print('b shape:', b.shape)\n",
        "print('c shape:', c.shape)"
      ],
      "metadata": {
        "colab": {
          "base_uri": "https://localhost:8080/"
        },
        "id": "T9_WICrlDnq9",
        "outputId": "cd4f28ff-2de6-42bf-eb9b-330b8bea0a2e"
      },
      "execution_count": null,
      "outputs": [
        {
          "output_type": "stream",
          "name": "stdout",
          "text": [
            "a shape: (9,)\n",
            "b shape: (3, 3)\n",
            "c shape: (2, 3, 4)\n"
          ]
        }
      ]
    },
    {
      "cell_type": "markdown",
      "source": [
        "**ndarray.ndim**:\n",
        "the number of axes (dimensions) of the array."
      ],
      "metadata": {
        "id": "lw6lQigpBpKs"
      }
    },
    {
      "cell_type": "code",
      "source": [
        "print('a dimensions:', a.ndim)\n",
        "print('b dimensions:', b.ndim)\n",
        "print('b dimensions:', c.ndim)"
      ],
      "metadata": {
        "id": "LUa8XDBDDzA9",
        "colab": {
          "base_uri": "https://localhost:8080/"
        },
        "outputId": "e61be66f-69c8-4074-a480-3a1bd425b473"
      },
      "execution_count": null,
      "outputs": [
        {
          "output_type": "stream",
          "name": "stdout",
          "text": [
            "a dimensions: 1\n",
            "b dimensions: 2\n",
            "b dimensions: 3\n"
          ]
        }
      ]
    },
    {
      "cell_type": "markdown",
      "source": [
        "**ndarray.size**: the total number of elements of the array. This is equal to the product of the elements of shape."
      ],
      "metadata": {
        "id": "TCE5hI9qFPW-"
      }
    },
    {
      "cell_type": "code",
      "source": [
        "print('a size:', a.size)\n",
        "print('b size:', b.size)\n",
        "print('c size:', c.size)"
      ],
      "metadata": {
        "colab": {
          "base_uri": "https://localhost:8080/"
        },
        "id": "_IDXQbR6FDLv",
        "outputId": "40efb47f-3db2-4d5c-dbd0-c55a0b921c04"
      },
      "execution_count": null,
      "outputs": [
        {
          "output_type": "stream",
          "name": "stdout",
          "text": [
            "a size: 9\n",
            "b size: 9\n",
            "c size: 24\n"
          ]
        }
      ]
    },
    {
      "cell_type": "markdown",
      "source": [
        "**ndarray.dtype**: an object describing the type of the elements in the array. One can create or specify dtype’s using standard Python types. Additionally NumPy provides types of its own. numpy.int32, numpy.int16, and numpy.float64 are some examples."
      ],
      "metadata": {
        "id": "2qSrxJO4IPG3"
      }
    },
    {
      "cell_type": "code",
      "source": [
        "print('a size:', a.dtype)\n",
        "print('b size:', b.dtype)\n",
        "print('c size:', c.dtype)"
      ],
      "metadata": {
        "colab": {
          "base_uri": "https://localhost:8080/"
        },
        "id": "rYyJ5zj5G3vU",
        "outputId": "0dbddacd-6731-4f44-a0e0-8408cefed060"
      },
      "execution_count": null,
      "outputs": [
        {
          "output_type": "stream",
          "name": "stdout",
          "text": [
            "a size: int16\n",
            "b size: int16\n",
            "c size: float64\n"
          ]
        }
      ]
    },
    {
      "cell_type": "markdown",
      "source": [
        "**ndarray.itemsize**: the size in bytes of each element of the array. For example, an array of elements of type float64 has itemsize 8 (=64/8), while one of type complex32 has itemsize 4 (=32/8). It is equivalent to ndarray.dtype.itemsize."
      ],
      "metadata": {
        "id": "EBPM3a_bI7Ml"
      }
    },
    {
      "cell_type": "code",
      "source": [
        "print('a size:', a.itemsize)\n",
        "print('b size:', b.itemsize)\n",
        "print('c size:', c.itemsize)"
      ],
      "metadata": {
        "colab": {
          "base_uri": "https://localhost:8080/"
        },
        "id": "AxocEbadIsAu",
        "outputId": "b3fc7f2f-61eb-4fca-a3f9-3f9f9df09fb7"
      },
      "execution_count": null,
      "outputs": [
        {
          "output_type": "stream",
          "name": "stdout",
          "text": [
            "a size: 2\n",
            "b size: 2\n",
            "c size: 8\n"
          ]
        }
      ]
    },
    {
      "cell_type": "code",
      "source": [
        "# An complete example\n",
        "a = np.arange(15).reshape(3, 5)\n",
        "print('array a:')\n",
        "print(a)\n",
        "print('a shape:', a.shape)\n",
        "print('a ndim:', a.ndim)\n",
        "print('a dtype name:', a.dtype.name)\n",
        "print('a item size:', a.itemsize)\n",
        "print('a size:', a.size)\n",
        "print('type a:', type(a))\n",
        "b = np.array([6, 7, 8])\n",
        "print('array b:')\n",
        "print(b)\n",
        "print('type b:', type(b))"
      ],
      "metadata": {
        "id": "wrN-Pp2x2CoS",
        "colab": {
          "base_uri": "https://localhost:8080/"
        },
        "outputId": "ff59abdd-9078-4327-e4eb-3dfebc85d72e"
      },
      "execution_count": null,
      "outputs": [
        {
          "output_type": "stream",
          "name": "stdout",
          "text": [
            "array a:\n",
            "[[ 0  1  2  3  4]\n",
            " [ 5  6  7  8  9]\n",
            " [10 11 12 13 14]]\n",
            "a shape: (3, 5)\n",
            "a ndim: 2\n",
            "a dtype name: int64\n",
            "a item size: 8\n",
            "a size: 15\n",
            "type a: <class 'numpy.ndarray'>\n",
            "array b:\n",
            "[6 7 8]\n",
            "type b: <class 'numpy.ndarray'>\n"
          ]
        }
      ]
    },
    {
      "cell_type": "markdown",
      "source": [
        "The function `zeros` creates an array full of zeros, the function `ones` creates an array full of ones"
      ],
      "metadata": {
        "id": "F9EiXXK4_Sab"
      }
    },
    {
      "cell_type": "code",
      "source": [
        "np.zeros((3, 4))"
      ],
      "metadata": {
        "colab": {
          "base_uri": "https://localhost:8080/"
        },
        "id": "eSGAIiYu_IlS",
        "outputId": "7a9ac5fb-4fc1-402a-9563-05271ace6dfd"
      },
      "execution_count": null,
      "outputs": [
        {
          "output_type": "execute_result",
          "data": {
            "text/plain": [
              "array([[0., 0., 0., 0.],\n",
              "       [0., 0., 0., 0.],\n",
              "       [0., 0., 0., 0.]])"
            ]
          },
          "metadata": {},
          "execution_count": 15
        }
      ]
    },
    {
      "cell_type": "code",
      "source": [
        "np.ones((2, 3, 4), dtype=np.int16)"
      ],
      "metadata": {
        "colab": {
          "base_uri": "https://localhost:8080/"
        },
        "id": "jIV4tytH_eKv",
        "outputId": "1638cfee-74c1-47a5-f35c-637f0e34d768"
      },
      "execution_count": null,
      "outputs": [
        {
          "output_type": "execute_result",
          "data": {
            "text/plain": [
              "array([[[1, 1, 1, 1],\n",
              "        [1, 1, 1, 1],\n",
              "        [1, 1, 1, 1]],\n",
              "\n",
              "       [[1, 1, 1, 1],\n",
              "        [1, 1, 1, 1],\n",
              "        [1, 1, 1, 1]]], dtype=int16)"
            ]
          },
          "metadata": {},
          "execution_count": 16
        }
      ]
    },
    {
      "cell_type": "markdown",
      "source": [
        "To create sequences of numbers, NumPy provides the `arange` function which is analogous to the Python built-in `range`, but returns an array."
      ],
      "metadata": {
        "id": "jK4VEzlLAMV6"
      }
    },
    {
      "cell_type": "code",
      "source": [
        "np.arange(10, 35, 5)"
      ],
      "metadata": {
        "colab": {
          "base_uri": "https://localhost:8080/"
        },
        "id": "1g4EXVFwAQql",
        "outputId": "1c1fb27f-5883-4999-acbf-72d701a142b4"
      },
      "execution_count": null,
      "outputs": [
        {
          "output_type": "execute_result",
          "data": {
            "text/plain": [
              "array([10, 15, 20, 25, 30])"
            ]
          },
          "metadata": {},
          "execution_count": 19
        }
      ]
    },
    {
      "cell_type": "code",
      "source": [
        "np.arange(0, 2, 0.3)  # it accepts float arguments"
      ],
      "metadata": {
        "colab": {
          "base_uri": "https://localhost:8080/"
        },
        "id": "AFb_wCbpArW3",
        "outputId": "851910bd-0393-465e-b4a5-6980d5e27bff"
      },
      "execution_count": null,
      "outputs": [
        {
          "output_type": "execute_result",
          "data": {
            "text/plain": [
              "array([0. , 0.3, 0.6, 0.9, 1.2, 1.5, 1.8])"
            ]
          },
          "metadata": {},
          "execution_count": 20
        }
      ]
    },
    {
      "cell_type": "markdown",
      "source": [
        "Unlike in many matrix languages, the product operator * operates elementwise in NumPy arrays. The matrix product can be performed using the @ operator or the dot function or method:"
      ],
      "metadata": {
        "id": "ByDzIJYkBVWa"
      }
    },
    {
      "cell_type": "code",
      "source": [
        "np.array([[1, 1],[0, 1]])"
      ],
      "metadata": {
        "colab": {
          "base_uri": "https://localhost:8080/"
        },
        "id": "mGbpByyvXRh8",
        "outputId": "bfef6860-109c-4440-c90a-ea6afaad9467"
      },
      "execution_count": null,
      "outputs": [
        {
          "output_type": "execute_result",
          "data": {
            "text/plain": [
              "array([[1, 1],\n",
              "       [0, 1]])"
            ]
          },
          "metadata": {},
          "execution_count": 21
        }
      ]
    },
    {
      "cell_type": "code",
      "source": [
        "np.array([[2, 0],[3, 4]])"
      ],
      "metadata": {
        "colab": {
          "base_uri": "https://localhost:8080/"
        },
        "id": "mN2WdZ-CXp4C",
        "outputId": "cc6baea2-b3df-430f-9a07-09019d93bc8f"
      },
      "execution_count": null,
      "outputs": [
        {
          "output_type": "execute_result",
          "data": {
            "text/plain": [
              "array([[2, 0],\n",
              "       [3, 4]])"
            ]
          },
          "metadata": {},
          "execution_count": 22
        }
      ]
    },
    {
      "cell_type": "code",
      "source": [
        "A = np.array([[1, 1],[0, 1]])\n",
        "B = np.array([[2, 0],[3, 4]])\n",
        "# elementwise product\n",
        "A * B"
      ],
      "metadata": {
        "colab": {
          "base_uri": "https://localhost:8080/"
        },
        "id": "rJEIvHpKBhwP",
        "outputId": "a37e3dde-f8f6-4ea9-b452-c6b38b20d7c3"
      },
      "execution_count": null,
      "outputs": [
        {
          "output_type": "execute_result",
          "data": {
            "text/plain": [
              "array([[2, 0],\n",
              "       [0, 4]])"
            ]
          },
          "metadata": {},
          "execution_count": 23
        }
      ]
    },
    {
      "cell_type": "code",
      "source": [
        "# matrix product\n",
        "A @ B"
      ],
      "metadata": {
        "colab": {
          "base_uri": "https://localhost:8080/"
        },
        "id": "iMyHDcSACB99",
        "outputId": "df766005-afbf-4020-f4e9-8c9db209ce01"
      },
      "execution_count": null,
      "outputs": [
        {
          "output_type": "execute_result",
          "data": {
            "text/plain": [
              "array([[5, 4],\n",
              "       [3, 4]])"
            ]
          },
          "metadata": {},
          "execution_count": 24
        }
      ]
    },
    {
      "cell_type": "code",
      "source": [
        " # another matrix product\n",
        "j=A.dot(B)\n",
        "j"
      ],
      "metadata": {
        "colab": {
          "base_uri": "https://localhost:8080/"
        },
        "id": "RDWKkHkUCFpt",
        "outputId": "045acebf-8d9c-4502-c0d0-a6e1ee6bb17c"
      },
      "execution_count": null,
      "outputs": [
        {
          "output_type": "execute_result",
          "data": {
            "text/plain": [
              "array([[5, 4],\n",
              "       [3, 4]])"
            ]
          },
          "metadata": {},
          "execution_count": 25
        }
      ]
    },
    {
      "cell_type": "code",
      "source": [
        "print('matrix transposta:\\n', j.T)"
      ],
      "metadata": {
        "colab": {
          "base_uri": "https://localhost:8080/"
        },
        "id": "SVTv3KKQYSUm",
        "outputId": "faea8db3-a313-4975-d430-70abc763c607"
      },
      "execution_count": null,
      "outputs": [
        {
          "output_type": "stream",
          "name": "stdout",
          "text": [
            "matrix transposta:\n",
            " [[5 3]\n",
            " [4 4]]\n"
          ]
        }
      ]
    },
    {
      "cell_type": "markdown",
      "source": [
        "Generate Random Number\n",
        "\n",
        "NumPy offers the random module to work with random numbers."
      ],
      "metadata": {
        "id": "cfhNDR3hCtYd"
      }
    },
    {
      "cell_type": "code",
      "source": [
        "from numpy import random\n",
        "# Generate a random integer from 0 to 100\n",
        "x = random.randint(100)\n",
        "print('Randon int:', x)\n",
        "# Generate a random float from 0 to 1\n",
        "x = random.rand(2)\n",
        "print('Randon float:', x)"
      ],
      "metadata": {
        "colab": {
          "base_uri": "https://localhost:8080/"
        },
        "id": "k9qCNz91CvRl",
        "outputId": "285fc830-8890-45b8-aad5-d66b495d8226"
      },
      "execution_count": null,
      "outputs": [
        {
          "output_type": "stream",
          "name": "stdout",
          "text": [
            "Randon int: 49\n",
            "Randon float: [0.45639857 0.95888739]\n"
          ]
        }
      ]
    },
    {
      "cell_type": "markdown",
      "source": [
        "Generate Random Array"
      ],
      "metadata": {
        "id": "d-rsfhmeFhMX"
      }
    },
    {
      "cell_type": "code",
      "source": [
        "# Generate a 1-D array containing 5 random integers from 0 to 100\n",
        "x=random.randint(100, size=(5))\n",
        "print(x)"
      ],
      "metadata": {
        "colab": {
          "base_uri": "https://localhost:8080/"
        },
        "id": "avVAyI3YFnx1",
        "outputId": "71316dea-f14a-4879-9331-e46f7c3bd2ea"
      },
      "execution_count": null,
      "outputs": [
        {
          "output_type": "stream",
          "name": "stdout",
          "text": [
            "[80 33 24 98 86]\n"
          ]
        }
      ]
    },
    {
      "cell_type": "code",
      "source": [
        "# Generate a 2-D array with 3 rows, each row containing 5 random integers from 0 to 100\n",
        "x = random.randint(100, size=(3, 5))\n",
        "print(x)"
      ],
      "metadata": {
        "colab": {
          "base_uri": "https://localhost:8080/"
        },
        "id": "unA50KaeGhao",
        "outputId": "0373f1aa-6a64-4318-ea2a-1ea9f9b96e12"
      },
      "execution_count": null,
      "outputs": [
        {
          "output_type": "stream",
          "name": "stdout",
          "text": [
            "[[62 73  4 55 75]\n",
            " [43 37 52 32 89]\n",
            " [76 91  1  9 52]]\n"
          ]
        }
      ]
    },
    {
      "cell_type": "markdown",
      "source": [
        "Plotting the sine function"
      ],
      "metadata": {
        "id": "JkajscUiDTqP"
      }
    },
    {
      "cell_type": "code",
      "execution_count": null,
      "metadata": {
        "uuid": "30faf136-0ef7-4762-bd82-3795eea323d0",
        "id": "ZGXILfPMqdzg",
        "outputId": "f668126a-0fe9-40cd-df09-b95d707989ad",
        "colab": {
          "base_uri": "https://localhost:8080/",
          "height": 430
        }
      },
      "outputs": [
        {
          "output_type": "display_data",
          "data": {
            "text/plain": [
              "<Figure size 640x480 with 1 Axes>"
            ],
            "image/png": "[encoded data removed]"
          },
          "metadata": {}
        }
      ],
      "source": [
        "import matplotlib.pyplot as plt\n",
        "# Generate a sequence of numbers from -pi to pi with 100 steps in between\n",
        "x = np.linspace(-np.pi, np.pi, 100)\n",
        "# Create a second array using sine\n",
        "y = np.sin(x)\n",
        "# The plot function makes a line chart of one array against another\n",
        "plt.plot(x, y, marker=\"x\")\n",
        "plt.show()"
      ]
    },
    {
      "cell_type": "markdown",
      "source": [
        "Normal distribution"
      ],
      "metadata": {
        "id": "KmxqaKzuX6o8"
      }
    },
    {
      "cell_type": "code",
      "source": [
        "import seaborn as sns\n",
        "p=random.normal(size=2000)\n",
        "sns.histplot(p, kde=True)\n",
        "plt.show()"
      ],
      "metadata": {
        "colab": {
          "base_uri": "https://localhost:8080/",
          "height": 430
        },
        "id": "GDYcCxxGWMwV",
        "outputId": "32e9d891-615e-452e-f834-f885fd250b7c"
      },
      "execution_count": null,
      "outputs": [
        {
          "output_type": "display_data",
          "data": {
            "text/plain": [
              "<Figure size 640x480 with 1 Axes>"
            ],
            "image/png": "[encoded data removed]"
          },
          "metadata": {}
        }
      ]
    },
    {
      "cell_type": "code",
      "source": [
        "plt.plot(p,'.')\n",
        "plt.show()"
      ],
      "metadata": {
        "colab": {
          "base_uri": "https://localhost:8080/",
          "height": 430
        },
        "id": "emwKCNKpYKcZ",
        "outputId": "119f940c-9304-404a-ac23-657e85751253"
      },
      "execution_count": null,
      "outputs": [
        {
          "output_type": "display_data",
          "data": {
            "text/plain": [
              "<Figure size 640x480 with 1 Axes>"
            ],
            "image/png": "[encoded data removed]"
          },
          "metadata": {}
        }
      ]
    },
    {
      "cell_type": "markdown",
      "source": [
        "# Exercícios\n",
        "\n",
        "1. Criar um vetor nulo de tamanho 10.\n",
        "2. Criar um vetor nulo de tamanho 10, mas o quarto item possui valor 1.\n",
        "3. Criar um vetor com valores que variam de 10 a 49.\n",
        "4. Criar uma matriz 3x3 com valores que variam de 0 a 9.\n",
        "\n",
        "  a) Encontrar valor mínimo\n",
        "\n",
        "  b) Encontrar valor máximo\n",
        "5. Criar uma matriz identidade 3x3.\n",
        "6. Subtrair a média de cada linha de uma matriz.\n",
        "7. Write a NumPy program to reverse an array (the first element becomes the last).\n",
        "<br>\n",
        "Original array:\n",
        "[12 13 14 15 16 17 18 19 20 21 22 23 24 25 26 27 28 29 30 31 32 33 34 35 36 37]\n",
        "<br>\n",
        "Reverse array:\n",
        "[37 36 35 34 33 32 31 30 29 28 27 26 25 24 23 22 21 20 19 18 17 16 15 14 13 12]\n",
        "8. Write a NumPy program to compute the inverse of a given matrix.\n",
        "9. Write a NumPy program to create a 5x5 array with random values and find the minimum and maximum values.\n"
      ],
      "metadata": {
        "id": "yQw2gNcFhGMr"
      }
    },
    {
      "cell_type": "markdown",
      "source": [
        "# Referências\n",
        "[1] https://www.w3schools.com/python/default.asp\n",
        "\n",
        "[2] https://docs.python.org/3/tutorial/index.html\n",
        "\n",
        "[3] https://www.tutorialspoint.com/python/index.htm\n",
        "\n",
        "[4] https://numpy.org/doc/stable/user/quickstart.html\n",
        "\n",
        "[5] https://www.geeksforgeeks.org/numpy-tutorial/\n"
      ],
      "metadata": {
        "id": "N6ZaSjWr4gs7"
      }
    }
  ]
}